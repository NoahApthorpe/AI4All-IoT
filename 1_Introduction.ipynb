{
 "cells": [
  {
   "cell_type": "markdown",
   "metadata": {},
   "source": [
    "# Artificial Intelligence & the Internet of Things\n",
    "\n",
    "Over the next three weeks, we'll be exploring the intersection of artificial intelligence (AI) with the Internet of Things (IoT). Both AI and IoT are rapidly growing and changing technologies with implications for privacy, energy use, and security (digital and physical). We'll do hands-on experiments with IoT devices, collect data from our own web browsing, and see how AI poses both risks and benefits for everyone who uses the Internet. \n",
    "\n",
    "## Day 1: Monday 8/23/18\n",
    "\n",
    "### Introductions & Ice Breakers\n",
    "\n",
    "This project will be lead by [Professor Nick Feamster](https://www.cs.princeton.edu/~feamster/) and four Princeton graduate students:\n",
    "\n",
    "* [Noah Apthorpe](https://www.cs.princeton.edu/~apthorpe/)\n",
    "\n",
    "* [Ross Teixeira](https://www.rossteixeira.com/)\n",
    "\n",
    "* [Vincent Pacelli](https://mae.princeton.edu/people/graduate-students/pacelli)\n",
    "\n",
    "* [Riley Simmons-Edler](https://undergraduateresearch.princeton.edu/riley-simmons-edler)\n",
    "\n",
    "### Overview of Internet and AI\n",
    "\n",
    "Professor Feamster will kick off the project with a lecture about how the Internet works, what is the Internet of Things, and how artificial intelligence is causing new risks and benefits for Internet users.\n",
    "\n",
    "### Finding partners & Choosing Devices\n",
    "\n",
    "You will be working in pairs for parts of this project. Each pair will focus on one of the following sets of two similar IoT devices:\n",
    "\n",
    "* **Home Assistants:** Google Home & Amazon Echo\n",
    "* **Security Cameras:** Amcrest Security Camera & Samsung Smart Cam\n",
    "* **Smart Lightbulbs:** Lifx Lightbulb & Geeni Lightbulb\n",
    "* **Children's Toys:** Gululu Kids Water Bottle & Ubooly Smart Toy\n",
    "\n",
    "Your first job is to find a partner. \n",
    "\n",
    "Once you have a partner, go to [this survey](https://goo.gl/forms/UacyugK19vlGqMWz1) and indicate which of the devices you would prefer."
   ]
  }
 ],
 "metadata": {
  "kernelspec": {
   "display_name": "Python 3",
   "language": "python",
   "name": "python3"
  },
  "language_info": {
   "codemirror_mode": {
    "name": "ipython",
    "version": 3
   },
   "file_extension": ".py",
   "mimetype": "text/x-python",
   "name": "python",
   "nbconvert_exporter": "python",
   "pygments_lexer": "ipython3",
   "version": "3.6.5"
  }
 },
 "nbformat": 4,
 "nbformat_minor": 2
}
