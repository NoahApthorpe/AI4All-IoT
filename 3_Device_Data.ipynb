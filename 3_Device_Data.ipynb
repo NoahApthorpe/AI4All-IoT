{
 "cells": [
  {
   "cell_type": "markdown",
   "metadata": {},
   "source": [
    "## Day 3: Wednesday 8/25/18\n",
    "\n",
    "### Device Data Collection\n",
    "\n",
    "Today we will be collecting network traffic data from the IoT devices. Working with your partner, you should follow the following protocol for each device (one at a time):\n",
    "\n",
    "1. Unbox the device (if boxed) and read any included instructions/documentation to familiarize yourself with the setup process\n",
    "2. If applicable, download the device's companion app to the provided smart phone\n",
    "3. Set up the device, connecting it to the WiFi network \"IoT-Pi-3\" with the password \"pi-wifi-3\".\n",
    "4. Think about your device, and make a list of all the actions a person could perform with the device. For lightbulbs, this could be \n",
    "    * Turn on via app\n",
    "    * Turn off via app\n",
    "    * Turn on via power switch\n",
    "    * Turn off via power switch\n",
    "5. Raise your hand and ask one of the TAs to review your list of actions\n",
    "6. *Partner 1*: Perform each of the actions on your list, multiple times, separated by periods of no actions.\n",
    "7. *Partner 2*: Open up a text file on your computer. At the same time as partner 1 is interacting with the device, record the exact time and type of each action in the text file. Be as specific as possible. For a home assistant, the start of this log could look like \n",
    "    * 1:45:00, asked \"What is the time\"\n",
    "    * 1:45:25, response completed\n",
    "    * 1:47:00, asked \"What is the time\"\n",
    "    * 1:47:25, response completed\n",
    "    * 1:51:00, started playing music \n",
    "    * 1:53:00, stopped playing music\n",
    "    * 1:55:00, started playing music \n",
    "    * 1:57:00, stopped playing music\n",
    "8. While you are interacting with the device, the custom WiFi router we have set up is recording all Internet traffic to and from the device. \n",
    "9. Once you are finished with all reptitions of all the actions, save the text file log and email it to one of the TAs. We will get the traffic data off the router and send it to you for tomorrow. \n",
    "\n",
    "Don't worry if you don't get through steps 1-9 today. You can continue to work on this tomorrow."
   ]
  },
  {
   "cell_type": "code",
   "execution_count": null,
   "metadata": {},
   "outputs": [],
   "source": []
  }
 ],
 "metadata": {
  "kernelspec": {
   "display_name": "Python 3",
   "language": "python",
   "name": "python3"
  },
  "language_info": {
   "codemirror_mode": {
    "name": "ipython",
    "version": 3
   },
   "file_extension": ".py",
   "mimetype": "text/x-python",
   "name": "python",
   "nbconvert_exporter": "python",
   "pygments_lexer": "ipython3",
   "version": "3.6.5"
  }
 },
 "nbformat": 4,
 "nbformat_minor": 2
}
