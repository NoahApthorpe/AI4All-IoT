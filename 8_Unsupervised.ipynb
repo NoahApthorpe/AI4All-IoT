{
 "cells": [
  {
   "cell_type": "code",
   "execution_count": 2,
   "metadata": {},
   "outputs": [],
   "source": [
    "import numpy as np\n",
    "import sklearn\n",
    "from data_collection.parse_pcap import pcap_to_pandas\n",
    "import pickle\n",
    "import pandas as pd\n",
    "import ipaddress\n",
    "import netaddr\n",
    "from matplotlib import pyplot as plt\n",
    "from sklearn.cluster import KMeans\n",
    "from sklearn.datasets.samples_generator import make_blobs\n",
    "%matplotlib inline"
   ]
  },
  {
   "cell_type": "markdown",
   "metadata": {},
   "source": [
    "## Supervised vs Unsupervised Learning\n",
    "So far you’ve seen multiple ways of doing supervised learning. In these types of problems, you start with labeled training examples and the goal is to learn from these data to label new data points in the future. However, prelabeled training data isn’t always available. Labelling large amounts of data ahead of time can be prohibitively expensive/time consuming. In some settings, we may also not know ahead of time what we want to learn from our data. In these situations, we use unsupervised learning\n",
    "\n",
    "In unsupervised learning, the input is a set of unlabeled data, and the goal is to uncover some structure from this data. The most common form of unsupervised learning is clustering, a variant of which we will go over today. Other examples include dimensionality reduction, in which we start with a datapoint with many dimensions and try to find a lower dimensional representation that retains some aspect of the original data (such as pairwise distance between points).\n",
    "\n",
    "## KMeans Intro\n",
    "The goal behind k-means is to find groups in your dataset. This is done by visualizing your data as points in a high dimensional space, and then finding clusters of nearby points in the graph. The input to k means is a set of data points and a number of clusters. Given this input, the goal of k-means is to find the location of clusters and assignment of points to clusters that minimizes the following objective function.\n",
    "\n",
    "$$RSE\\ =\\ \\sum_{i=1}^kd(Ci\\ ,\\ xi)^2$$\n",
    "\n",
    "Where d(x,y) is a standard distance function (such as euclidean). Here’s an example:\n",
    "http://stanford.edu/class/ee103/visualizations/kmeans/kmeans.html\n",
    "\n",
    "Finding the optimal location of clusters is a hard problem. However, the following algorithm finds a decent approximation.\n",
    "\n",
    "Algorithm:\n",
    "1. Pick a number k of clusters \n",
    "2. Initialize the positions of the clusters at random\n",
    "3. Assign each point to the cluster closest to it\n",
    "4. Move each cluster to the midpoint of all points assigned to it\n",
    "5. Repeat steps 3 and 4 until convergence\n"
   ]
  },
  {
   "cell_type": "code",
   "execution_count": null,
   "metadata": {},
   "outputs": [],
   "source": [
    "data = pcap_to_pandas(\"example_pcaps/ross.pcap\")\n",
    "data.head(5)"
   ]
  },
  {
   "cell_type": "markdown",
   "metadata": {},
   "source": [
    "# IP Geolocation\n",
    "\n",
    "Let's start by plotting the latitude and longitude of each src IP on a grid. The file \"example_pcaps/ross_ips.txt\" contains geolocation data about each of the source IPs detected in our dataset.\n",
    "\n",
    "The following code adds a \"lat\" and \"lon\" column to the data, collected from ross_ips.txt."
   ]
  },
  {
   "cell_type": "code",
   "execution_count": null,
   "metadata": {},
   "outputs": [],
   "source": [
    "with open('example_pcaps/ross_ips.txt', 'r') as f:\n",
    "    IP_data = json.load(f)\n",
    "\n",
    "def IP_to_lat(row):\n",
    "    return float(IP_data[row[\"ip_src\"]][\"loc\"].split(\",\")[0])\n",
    "\n",
    "def IP_to_lon(row):\n",
    "    return float(IP_data[row[\"ip_src\"]][\"loc\"].split(\",\")[1])\n",
    "\n",
    "copy_data = data.copy()\n",
    "copy_data[\"lat\"] = 0\n",
    "copy_data[\"lon\"] = 0\n",
    "\n",
    "copy_data = copy_data[copy_data[\"ip_src\"].notnull()]\n",
    "\n",
    "copy_data[\"lat\"] = copy_data.apply(IP_to_lat, axis=1)\n",
    "copy_data[\"lon\"] = copy_data.apply(IP_to_lon, axis=1)"
   ]
  },
  {
   "cell_type": "markdown",
   "metadata": {},
   "source": [
    "Now let's plot the latitudes and longitudes of all the responses."
   ]
  },
  {
   "cell_type": "code",
   "execution_count": null,
   "metadata": {},
   "outputs": [],
   "source": [
    "lat_data = copy_data[\"lat\"]\n",
    "lon_data = copy_data[\"lon\"]\n",
    "\n",
    "plt.scatter(lat_data, lon_data)\n",
    "plt.xlabel(\"Latitude\")\n",
    "plt.ylabel(\"Longitude\")\n",
    "plt.show()"
   ]
  },
  {
   "cell_type": "code",
   "execution_count": null,
   "metadata": {},
   "outputs": [],
   "source": [
    "data[\"ip_src\"].unique()[10:20]"
   ]
  },
  {
   "cell_type": "markdown",
   "metadata": {},
   "source": [
    "Look up some of these IPs. What do you think this plot is a map of?\n",
    "\n",
    "Now, let's cluster them! Take a few minutes to play with different numbers of clusters. What should the clusters represent? See if you can produce a good clustering. What should the clusters represent?"
   ]
  },
  {
   "cell_type": "code",
   "execution_count": null,
   "metadata": {},
   "outputs": [],
   "source": [
    "kmeans = KMeans(n_clusters=?)\n",
    "\n",
    "kmeans_data = list(zip(lat_data, lon_data))\n",
    "kmeans.fit(kmeans_data)\n",
    "clusters = kmeans.predict(kmeans_data)\n",
    "\n",
    "plt.scatter(lat_data, lon_data, c=clusters)\n",
    "plt.xlabel(\"Latitude\")\n",
    "plt.ylabel(\"Longitude\")\n",
    "plt.show()"
   ]
  },
  {
   "cell_type": "markdown",
   "metadata": {},
   "source": [
    "## K-Means Goes Wrong\n",
    "\n",
    "Now, we'll examine a case where clustering performs poorly, despite there being seemingly good positions for these clusters.\n",
    "\n",
    "On the X-axis, we will graph the source IPs of our data.\n",
    "On the Y-axis, we will graph the total # of bytes sent by each IP."
   ]
  },
  {
   "cell_type": "code",
   "execution_count": null,
   "metadata": {},
   "outputs": [],
   "source": [
    "ip_src = data[data[\"ip_src_int\"].notnull()][\"ip_src_int\"].unique()\n",
    "ip_src.sort()\n",
    "ip_src_lengths = data[data[\"ip_src_int\"].notnull()].groupby(\"ip_src_int\").sum()[\"length\"]\n",
    "\n",
    "plt.scatter(ip_src, ip_src_lengths)\n",
    "plt.xlabel(\"Src IPs\")\n",
    "plt.ylabel(\"Length\")\n",
    "plt.show()"
   ]
  },
  {
   "cell_type": "markdown",
   "metadata": {},
   "source": [
    "How many clusters should there be? Where should they be placed?"
   ]
  },
  {
   "cell_type": "code",
   "execution_count": null,
   "metadata": {},
   "outputs": [],
   "source": [
    "kmeans = KMeans(n_clusters=2)\n",
    "kmeans_data = list(zip(ip_src, ip_src_lengths))\n",
    "kmeans.fit(kmeans_data)\n",
    "clusters = kmeans.predict(kmeans_data)\n",
    "\n",
    "plt.scatter(ip_src, ip_src_lengths, c=clusters)\n",
    "centers = kmeans.cluster_centers_\n",
    "plt.scatter(centers[:, 0], centers[:, 1], color='red')\n",
    "plt.xlabel(\"Src IPs\")\n",
    "plt.ylabel(\"Lengths\")"
   ]
  },
  {
   "cell_type": "markdown",
   "metadata": {},
   "source": [
    "K-Means has a hard time producing a good clustering of the data. Because there are so many senders with a short connection, K-Means prefers to choose centroids near the bottom of the graph to minimize the total error.\n",
    "\n",
    "A simple modification to produce a better clustering would be to multiply all the lengths by a large constant. This way, the penalty of the outlying two points would be so great that K-means now prefers to choose a centroid near the two senders with large sending amounts."
   ]
  },
  {
   "cell_type": "code",
   "execution_count": null,
   "metadata": {},
   "outputs": [],
   "source": [
    "kmeans = KMeans(n_clusters=2)\n",
    "kmeans_data = list(zip(ip_src, ip_src_lengths))\n",
    "kmeans.fit(kmeans_data)\n",
    "clusters = kmeans.predict(kmeans_data)\n",
    "\n",
    "plt.scatter(ip_src, ip_src_lengths, c=clusters)\n",
    "centers = kmeans.cluster_centers_\n",
    "plt.scatter(centers[:, 0], centers[:, 1], color='red')\n",
    "plt.xlabel(\"Src IPs\")\n",
    "plt.ylabel(\"Lengths\")"
   ]
  },
  {
   "cell_type": "markdown",
   "metadata": {},
   "source": [
    "## Guess the k!\n"
   ]
  },
  {
   "cell_type": "code",
   "execution_count": 22,
   "metadata": {},
   "outputs": [
    {
     "data": {
      "text/plain": [
       "<matplotlib.collections.PathCollection at 0x1a1e143748>"
      ]
     },
     "execution_count": 22,
     "metadata": {},
     "output_type": "execute_result"
    },
    {
     "data": {
      "image/png": "[encoded data removed]",
      "text/plain": [
       "<Figure size 432x288 with 1 Axes>"
      ]
     },
     "metadata": {},
     "output_type": "display_data"
    }
   ],
   "source": [
    "guesses = []\n",
    "guess_error_rates = []\n",
    "\n",
    "randint = np.random.randint(3, 10)\n",
    "X, y_true = make_blobs(n_samples=100, centers=randint,cluster_std=0.4, random_state=0)\n",
    "plt.scatter(X[:, 0], X[:, 1], s=50)"
   ]
  },
  {
   "cell_type": "code",
   "execution_count": 21,
   "metadata": {},
   "outputs": [
    {
     "data": {
      "text/plain": [
       "<matplotlib.collections.PathCollection at 0x1a1e01d470>"
      ]
     },
     "execution_count": 21,
     "metadata": {},
     "output_type": "execute_result"
    },
    {
     "data": {
      "image/png": "[encoded data removed]",
      "text/plain": [
       "<Figure size 432x288 with 1 Axes>"
      ]
     },
     "metadata": {},
     "output_type": "display_data"
    }
   ],
   "source": [
    "guess = 3\n",
    "\n",
    "# make a k_means variable equal to KMeans with \"guess\" number of clusters (See above!)\n",
    "TODO\n",
    "# fit KMeans to the data \"X\"\n",
    "TODO\n",
    "\n",
    "guess.append(guess)\n",
    "guess_error_rates.append(k_means.inertia_)"
   ]
  },
  {
   "cell_type": "code",
   "execution_count": null,
   "metadata": {},
   "outputs": [],
   "source": [
    "plt.plot(guesses, guess_error_rates)\n",
    "plt.xlabel(\"Guesses\")\n",
    "plt.ylabel(\"Guess Error Rates\")\n",
    "plt.show()"
   ]
  },
  {
   "cell_type": "markdown",
   "metadata": {},
   "source": [
    "## Conclusion\n",
    "\n",
    "Unsupervised learning is a different paradigm in machine learning in which the learner must find structure in a dataset on her own without the benefit of pre-labeled data. This can be used in instances where labels are not available, but as we’ve seen in this lab, it can also be used to discover interesting patterns in data that you might not have known to look for ahead of time.\n",
    "\n",
    "K-means clustering is a simple yet effective unsupervised machine learning algorithm for data clustering. It clusters data based on the Euclidean distance between data points."
   ]
  }
 ],
 "metadata": {
  "kernelspec": {
   "display_name": "Python 3",
   "language": "python",
   "name": "python3"
  },
  "language_info": {
   "codemirror_mode": {
    "name": "ipython",
    "version": 3
   },
   "file_extension": ".py",
   "mimetype": "text/x-python",
   "name": "python",
   "nbconvert_exporter": "python",
   "pygments_lexer": "ipython3",
   "version": "3.6.5"
  }
 },
 "nbformat": 4,
 "nbformat_minor": 2
}
