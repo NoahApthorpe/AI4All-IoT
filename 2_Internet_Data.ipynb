{
 "cells": [
  {
   "cell_type": "markdown",
   "metadata": {},
   "source": [
    "## Day 2: Tuesday 8/24/18\n",
    "\n",
    "### Internet data collection\n",
    "\n",
    "We'll start off by collecting network traffic data from your own Internet browsing. Follow these steps to record network traffic:\n",
    "1. Open Wireshark on your computer. \n",
    "2. Under \"Capture\" double-click \"WiFi en0\" \n",
    "3. You see a list of recorded packets start to scroll through. These are all the network packets that are being sent or received by your computer. \n",
    "4. Without closing Wireshark, open an Internet browser. You'll have about 5-10 minutes to browse freely while the data is recorded. \n",
    "5. When time is up, switch back to Wireshark and click the red square \"stop\" button in the upper left. This will stop the network traffic recording\n",
    "6. \"File > Save\" the data on your desktop as \"internet-browsing-{name}.pcap\" with your name instead of {name} \n",
    "7. Without closing wireshark, email the pcap file to the TAs.\n",
    "\n",
    "### Internet Data Visualization\n",
    "\n",
    "Now we will explore and visualize your Internet browsing data, trying to understand how your browsing behavior affected the network traffic \n",
    "1. Wireshark should show a list of all the packets in the data capture. You can scroll through and see the different addresses and protocols of each packet, but this view is ultimately not that helpful for getting a sense of the dataset as a whole. Fortunately, Wireshark has many analysis tools, mostly in the \"Statistics\" menu. \n",
    "4. The TAs will demonstrate several of analysis tools on the projector. \n",
    "5. Play around with the analysis tools.  Try to come up with at least one summary or visualization that you find interesting to show the class. "
   ]
  }
 ],
 "metadata": {
  "kernelspec": {
   "display_name": "Python 3",
   "language": "python",
   "name": "python3"
  },
  "language_info": {
   "codemirror_mode": {
    "name": "ipython",
    "version": 3
   },
   "file_extension": ".py",
   "mimetype": "text/x-python",
   "name": "python",
   "nbconvert_exporter": "python",
   "pygments_lexer": "ipython3",
   "version": "3.6.5"
  }
 },
 "nbformat": 4,
 "nbformat_minor": 2
}
