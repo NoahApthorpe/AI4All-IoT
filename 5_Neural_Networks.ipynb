{
 "cells": [
  {
   "cell_type": "markdown",
   "metadata": {
    "colab_type": "text",
    "id": "_MZAf9xt4FcE"
   },
   "source": [
    "## Neural Networks\n",
    "\n",
    "\n",
    "This notebook is intended to span two days. A good stopping point for the first day would be midway through the section on backpropagation, but feel free to proceed at your own pace(if you get done early there are some open-ended questions you could pursue at the bottom).\n",
    "\n",
    "Deep learning (and thus neural networks) are currently very popular in AI and machine learning, but the core algorithms involved are actually fairly old and very simple. \n",
    "\n",
    "Here, we will be implementing a simple neural network, alternately known as a fully-connected(FC) network or multilayer perceptron, and then training it using the backpropagation algorithm.\n",
    "\n",
    "To simplify the process, we will use the Pytorch framework, which provides us with an environment and pre-implemented neural network algorithms.\n",
    "\n",
    "We will also use numpy and matplotlib for handling our data and visualizing it, respectively.\n",
    "\n",
    "Portions of this code were adapted with permission from the Princeton COS485 Neural Networks course taught by Sebastian Seung."
   ]
  },
  {
   "cell_type": "code",
   "execution_count": 2,
   "metadata": {
    "colab": {
     "autoexec": {
      "startup": false,
      "wait_interval": 0
     }
    },
    "colab_type": "code",
    "id": "p3Xa-UdqBuQP"
   },
   "outputs": [],
   "source": [
    "#First, let's set up our environment\n",
    "# http://pytorch.org/\n",
    "from os import path\n",
    "from wheel.pep425tags import get_abbr_impl, get_impl_ver, get_abi_tag\n",
    "\n",
    "import torch, torchvision\n",
    "import torch.nn as nn\n",
    "import torch.nn.functional as F\n",
    "import numpy as np\n",
    "import matplotlib.pyplot as plt\n",
    "from IPython import display \n",
    "import time, math\n",
    "\n",
    "#Allow inline plotting within the notebook and use a grayscale colormap\n",
    "%matplotlib inline\n",
    "plt.rcParams['image.cmap'] = 'gray'\n",
    "#Fix the numpy random seed so we know what we're getting\n",
    "np.random.seed(seed=485)"
   ]
  },
  {
   "cell_type": "code",
   "execution_count": 3,
   "metadata": {},
   "outputs": [],
   "source": [
    "from sklearn.datasets import load_digits"
   ]
  },
  {
   "cell_type": "markdown",
   "metadata": {
    "colab_type": "text",
    "id": "P_kuHM4qCZSm"
   },
   "source": [
    "For illustration purposes, we will use the MNIST dataset of 60,000 handwritten digits, each labeled 0 through 9. \n",
    "\n",
    "The problem we will try to solve on this dataset is to classify each example image as one of the 10 digits.\n",
    "\n",
    "This dataset is considered a standard for developing and testing machine learning methods."
   ]
  },
  {
   "cell_type": "code",
   "execution_count": 4,
   "metadata": {
    "colab": {
     "autoexec": {
      "startup": false,
      "wait_interval": 0
     },
     "base_uri": "https://localhost:8080/",
     "height": 52
    },
    "colab_type": "code",
    "executionInfo": {
     "elapsed": 255,
     "status": "ok",
     "timestamp": 1532468114727,
     "user": {
      "displayName": "Riley Simmons-Edler",
      "photoUrl": "https://lh3.googleusercontent.com/a/default-user=s128",
      "userId": "106443123906519806041"
     },
     "user_tz": 240
    },
    "id": "SEyRoOjaCyfh",
    "outputId": "f72e926f-b471-45e3-db55-7876ab067e62"
   },
   "outputs": [
    {
     "name": "stdout",
     "output_type": "stream",
     "text": [
      "Data shape: torch.Size([60000, 28, 28])\n",
      "Labels shape: torch.Size([60000])\n"
     ]
    }
   ],
   "source": [
    "#load the data\n",
    "mnist_train = torchvision.datasets.MNIST(root='data', train=True, download=True) # train data only\n",
    "mnist_test = torchvision.datasets.MNIST(root='data', train=False, download=True) # test data only\n",
    "\n",
    "digits_train = mnist_train\n",
    "digits_test = mnist_test\n",
    "\n",
    "#Let's take a look at the shape of this data\n",
    "print(\"Data shape: {}\".format(mnist_train.train_data.size()))\n",
    "print(\"Labels shape: {}\".format(mnist_train.train_labels.size()))"
   ]
  },
  {
   "cell_type": "markdown",
   "metadata": {
    "colab_type": "text",
    "id": "46O1Gb9fn7Om"
   },
   "source": [
    "The dataset is ordered (starting with examples labeled '0', ending with examples labeled '9'). To generate training examples, use 60,000 random indices into the dataset."
   ]
  },
  {
   "cell_type": "code",
   "execution_count": 5,
   "metadata": {
    "colab": {
     "autoexec": {
      "startup": false,
      "wait_interval": 0
     }
    },
    "colab_type": "code",
    "id": "xeMgQ0V5oi2b"
   },
   "outputs": [],
   "source": [
    "indices = torch.randperm(60000)\n",
    "trainimages = mnist_train.train_data[indices]\n",
    "trainlabels = mnist_train.train_labels[indices]\n",
    "\n",
    "testindices = torch.randperm(10000)\n",
    "testimages = mnist_test.test_data[testindices]\n",
    "testlabels = mnist_test.test_labels[testindices]"
   ]
  },
  {
   "cell_type": "markdown",
   "metadata": {
    "colab_type": "text",
    "id": "i0n_oFBDoshp"
   },
   "source": [
    "Before we train anything, it helps to get a look at our data. Let's plot the first image in our training set"
   ]
  },
  {
   "cell_type": "code",
   "execution_count": 6,
   "metadata": {
    "colab": {
     "autoexec": {
      "startup": false,
      "wait_interval": 0
     }
    },
    "colab_type": "code",
    "id": "4FOqSwK3Wcnb"
   },
   "outputs": [],
   "source": [
    "#A plotting function to visualize images\n",
    "def plot_image(image):\n",
    "    nr, nc = image.size() \n",
    "    extent = [-0.5, nc-0.5, nr-0.5, -0.5]\n",
    "    plt.imshow(image.numpy(), extent=extent, origin='upper', interpolation='nearest') "
   ]
  },
  {
   "cell_type": "code",
   "execution_count": 7,
   "metadata": {
    "colab": {
     "autoexec": {
      "startup": false,
      "wait_interval": 0
     },
     "base_uri": "https://localhost:8080/",
     "height": 280
    },
    "colab_type": "code",
    "executionInfo": {
     "elapsed": 340,
     "status": "ok",
     "timestamp": 1532468118991,
     "user": {
      "displayName": "Riley Simmons-Edler",
      "photoUrl": "https://lh3.googleusercontent.com/a/default-user=s128",
      "userId": "106443123906519806041"
     },
     "user_tz": 240
    },
    "id": "wi6B9QdVorCV",
    "outputId": "c31d78bf-6a56-42eb-cd7e-1294d7bdd4b9"
   },
   "outputs": [
    {
     "data": {
      "image/png": "[encoded data removed]",
      "text/plain": [
       "<Figure size 640x480 with 1 Axes>"
      ]
     },
     "metadata": {},
     "output_type": "display_data"
    }
   ],
   "source": [
    "#Plot first image\n",
    "plt.figure()\n",
    "ax = plt.subplot(111)\n",
    "ax.grid(False)\n",
    "plot_image(trainimages[0])\n",
    "plt.title(\"First entry in MNIST dataset\")\n",
    "plt.show()"
   ]
  },
  {
   "cell_type": "markdown",
   "metadata": {
    "colab_type": "text",
    "id": "5TgDtjZYo98v"
   },
   "source": [
    "Looks like a number, right? What about the mean(average) of all images in the set?"
   ]
  },
  {
   "cell_type": "code",
   "execution_count": 8,
   "metadata": {
    "colab": {
     "autoexec": {
      "startup": false,
      "wait_interval": 0
     },
     "base_uri": "https://localhost:8080/",
     "height": 280
    },
    "colab_type": "code",
    "executionInfo": {
     "elapsed": 778,
     "status": "ok",
     "timestamp": 1532468121028,
     "user": {
      "displayName": "Riley Simmons-Edler",
      "photoUrl": "https://lh3.googleusercontent.com/a/default-user=s128",
      "userId": "106443123906519806041"
     },
     "user_tz": 240
    },
    "id": "6PhywVxupGLt",
    "outputId": "364a2848-079d-48b6-c02f-c2dbe1bef6b6"
   },
   "outputs": [
    {
     "data": {
      "image/png": "[encoded data removed]",
      "text/plain": [
       "<Figure size 640x480 with 1 Axes>"
      ]
     },
     "metadata": {},
     "output_type": "display_data"
    }
   ],
   "source": [
    "#Plot mean image\n",
    "mean = torch.mean(trainimages.float(), dim=0)\n",
    "plt.figure()\n",
    "ax = plt.subplot(111)\n",
    "ax.grid(False)\n",
    "plot_image(mean)\n",
    "plt.title(\"Mean of entries in MNIST dataset\")\n",
    "plt.show()"
   ]
  },
  {
   "cell_type": "markdown",
   "metadata": {
    "colab_type": "text",
    "id": "SQcdYceQpOGR"
   },
   "source": [
    "Basically a blur, but it lets us see what parts of the images usually contain non-0 values."
   ]
  },
  {
   "cell_type": "markdown",
   "metadata": {
    "colab_type": "text",
    "id": "UxtZdenh9OLz"
   },
   "source": [
    "We can also look at this property by visualizing the pixels that are always zero(black) or ever non-zero(white)"
   ]
  },
  {
   "cell_type": "code",
   "execution_count": 9,
   "metadata": {
    "colab": {
     "autoexec": {
      "startup": false,
      "wait_interval": 0
     },
     "base_uri": "https://localhost:8080/",
     "height": 265
    },
    "colab_type": "code",
    "executionInfo": {
     "elapsed": 785,
     "status": "ok",
     "timestamp": 1532468122995,
     "user": {
      "displayName": "Riley Simmons-Edler",
      "photoUrl": "https://lh3.googleusercontent.com/a/default-user=s128",
      "userId": "106443123906519806041"
     },
     "user_tz": 240
    },
    "id": "nWVMd_wiWFS2",
    "outputId": "c0d79a2d-3c08-4928-fe20-087259aed09d"
   },
   "outputs": [
    {
     "data": {
      "image/png": "[encoded data removed]",
      "text/plain": [
       "<Figure size 640x480 with 1 Axes>"
      ]
     },
     "metadata": {},
     "output_type": "display_data"
    }
   ],
   "source": [
    "nonzero = torch.gt(torch.sum(trainimages.float(), dim=0), 0.0)\n",
    "plt.figure()\n",
    "ax = plt.subplot(111)\n",
    "ax.grid(False)\n",
    "plot_image(nonzero)\n",
    "plt.show()"
   ]
  },
  {
   "cell_type": "markdown",
   "metadata": {
    "colab_type": "text",
    "id": "Y9GXmHPHWxJM"
   },
   "source": [
    "Let's look at a few more examples from the dataset. We'll define a function to display multiple images at once to help with that. Montage takes a list containing a square number of images from our data (e.g. 1, 4, 9, etc.) and displays them."
   ]
  },
  {
   "cell_type": "code",
   "execution_count": 10,
   "metadata": {
    "colab": {
     "autoexec": {
      "startup": false,
      "wait_interval": 0
     }
    },
    "colab_type": "code",
    "id": "9rK8ZX3rWvr_"
   },
   "outputs": [],
   "source": [
    "#Takes in an array(list, in python terminology) of images\n",
    "def montage(imgstack):\n",
    "    plt.figure()\n",
    "    width = int(np.ceil(np.sqrt(len(imgstack))))\n",
    "    height = int(np.floor(np.sqrt(len(imgstack))))\n",
    "    for i in range(0, len(imgstack)):\n",
    "        ax = plt.subplot(height, width, i+1)\n",
    "        ax.grid(False)\n",
    "        plot_image(imgstack[i])\n",
    "    plt.show()"
   ]
  },
  {
   "cell_type": "markdown",
   "metadata": {
    "colab_type": "text",
    "id": "b3HwMUavXTW6"
   },
   "source": [
    "**QUESTION**\n",
    "Now let's display the first 6 training examples\n",
    "\n",
    "Can you complete the function call below to do that?\n",
    "\n",
    "Try passing a subset of trainimages. You can select only a slice of the whole array like so:\n",
    "\n",
    "trainimages[start:end]"
   ]
  },
  {
   "cell_type": "code",
   "execution_count": 11,
   "metadata": {
    "colab": {
     "autoexec": {
      "startup": false,
      "wait_interval": 0
     },
     "base_uri": "https://localhost:8080/",
     "height": 132
    },
    "colab_type": "code",
    "executionInfo": {
     "elapsed": 236,
     "status": "error",
     "timestamp": 1532468125613,
     "user": {
      "displayName": "Riley Simmons-Edler",
      "photoUrl": "https://lh3.googleusercontent.com/a/default-user=s128",
      "userId": "106443123906519806041"
     },
     "user_tz": 240
    },
    "id": "ab-RhQYyXaSZ",
    "outputId": "0db87c88-d516-46fb-e605-7884ccd75cbb"
   },
   "outputs": [
    {
     "data": {
      "image/png": "[encoded data removed]",
      "text/plain": [
       "<Figure size 640x480 with 6 Axes>"
      ]
     },
     "metadata": {},
     "output_type": "display_data"
    }
   ],
   "source": [
    "montage(trainimages[:6])"
   ]
  },
  {
   "cell_type": "markdown",
   "metadata": {
    "colab_type": "text",
    "id": "5o8t4l8wYE7O"
   },
   "source": [
    "**QUESTION**\n",
    "\n",
    "Next, can you print out the labels corresponding to each image above? \\\n",
    "You can select a range from trainlabels the same way as you did above."
   ]
  },
  {
   "cell_type": "code",
   "execution_count": 12,
   "metadata": {
    "colab": {
     "autoexec": {
      "startup": false,
      "wait_interval": 0
     },
     "base_uri": "https://localhost:8080/",
     "height": 132
    },
    "colab_type": "code",
    "executionInfo": {
     "elapsed": 268,
     "status": "error",
     "timestamp": 1532468128086,
     "user": {
      "displayName": "Riley Simmons-Edler",
      "photoUrl": "https://lh3.googleusercontent.com/a/default-user=s128",
      "userId": "106443123906519806041"
     },
     "user_tz": 240
    },
    "id": "koYO5eMfYSGQ",
    "outputId": "b43fb8a6-2ce6-4148-d805-bb2597518467"
   },
   "outputs": [
    {
     "name": "stdout",
     "output_type": "stream",
     "text": [
      "tensor([6, 8, 7, 0, 2, 7])\n"
     ]
    }
   ],
   "source": [
    "print(trainlabels[:6])"
   ]
  },
  {
   "cell_type": "markdown",
   "metadata": {
    "colab_type": "text",
    "id": "cnuNDLIH6RDV"
   },
   "source": [
    "Okay, we've looked at our data, but before we train any neural networks on it, let's take a moment to familiarize ourselves with the basic neural network algorithm.\n",
    "\n",
    "---\n",
    "**Neurons 101**\n",
    "\n",
    "Let's illustrate with the simplest possible neural \"network.\"  \n",
    "Suppose we have a single neuron $y$ that computes a function of one input:\n",
    "$y = Wx + b$.\n",
    "\n",
    "$y$, $x$, $b$, and $W$ are all scalar values (single numbers).\n",
    "\n",
    "All we do is take in a single value $x$, multiply it by some number we have learned, $W$, and add another number $b$ to it.\n",
    "\n",
    "Let's suppose for a moment that we want $y$ to be 1 or greater if $x$ is less than or equal to 0, and $y$ should be less than 1 if $x$ is greater than 0.\n",
    "\n",
    "If we want that to be true, we need to find values of $W$ and $b$ which make $y$ take the proper value as a function of $x$.\n",
    "\n",
    "---\n",
    "\n",
    "\n",
    "\n",
    "**QUESTION**\n",
    "Can you think of values for $W$ and $b$ that make $y$ behave the way we want?\n",
    "\n",
    "Sketch out the shape of this function ($y$ as a function of $x$)\n",
    "\n",
    "---\n",
    "\n",
    "**Parameter Fitting**\n",
    "\n",
    "In this case finding values by hand is easy, but what about harder cases? How can we find values for $W$ and $b$ that work for any desired function?\n",
    "\n",
    "There are many answers to this question across the fields of machine learning and optimization (you may recall some such methods from previous modules). For neural networks, we use **stochastic gradient descent** along with **backpropagation** to fit these values.\n",
    "\n",
    "---\n",
    "\n",
    "**Loss Functions**\n",
    "\n",
    "Suppose we randomly guess that $W$ should be 1 and $b$ should be 0.\n",
    "\n",
    "While we don't know what the right values of $W$ and $b$ are, we do know what the desired behavior of $y$ is.\n",
    "\n",
    "We also know what our current function is using $W=1$ and $b=0$. In fact, we can compute a difference between the current function and the desired behavior. For example, the following:\n",
    "\n",
    "$ L = \\begin{cases}\n",
    "    1 - y\\ \\text{if}\\ x \\leq 0\\\\\n",
    "    y - 1\\ \\text{if}\\ x \\geq 0\\\\\n",
    " \\end{cases} $\n",
    "  \n",
    "Let's look at this function for a minute. We have two cases, but they're mostly the same, so let's just think about the top one. $L$ is a function that should be small when $y$ does what we want (negative values are small), and large when it does not. This lets us evaluate $y$'s behavior and how it differs from the behavior we want for any given value of $x$.\n",
    "\n",
    "If we have a function $L$ that describes how $y$ differs from the function we want, it turns out we can actually compute how $W$ and $b$ should change to make the value of $L$ smaller, and thus **make $y$ behave as desired.**\n",
    "\n",
    "---\n",
    "\n",
    "The ultimate goal is to reduce the values of the loss function $L$. If we know how the loss function $L$ will change as a function of $W$, we can change the value of $W$ to make $L$ smaller. For example, if we know when $W = 1$ that making $W$ bigger makes $L$ smaller, we can make $W$ bigger and get closer to our goal of making $L$ as small as possible.\n",
    "\n",
    "Unfortunately, this relationship might not hold for other values of $W$, or for the same value of $W$ but when $x$ or $b$ are different values.\n",
    "\n",
    "---\n",
    "\n",
    "It's easy to evaluate how to change $W$ with all other variables fixed, so let's do so. This method is called **stochastic gradient descent (SGD)**):\n",
    "\n",
    "1. Compute how $W$ affects $L$ (for example, we can compute the value of $L$ given $W = 1$ and $W = 1.01$ and see how $L$ changes. \n",
    "\n",
    "2. Change $W$ by a little bit (if this is too large we might overshoot the correct value of $W$ and end up making things worse, so we have to go slowly).\n",
    "\n",
    "3. Get a new value for $x$ (from our training set) and run the network using our new value of $W$.\n",
    "\n",
    "4. Go back to 1, repeat until $L$ is small (we can set some threshold that determines when it is small enough).\n",
    "\n",
    "We can also do the same process for $b$ (we can compute changes to each the same way).\n",
    "\n",
    "\n",
    "---\n",
    "\n",
    "Ok, this sounds good, but how should we figure out how changing $W$ affects $L$? Computing it discretely can be error-prone, and we have to do the same process separately for each variable we want to fit. What if we had hundreds or thousands of variables?\n",
    "\n",
    "Turns out, we can compute exactly how to change each variable in parallel, no matter how many we have, using **Backpropagation** a.k.a. the chain rule for partial derivatives. If you take multivariate calculus this topic will be covered in more detail, but for now the basic intuition is simple:\n",
    "\n",
    "* The derivative of a function $L$ with respect to one of its variables is another function (let's call this $\\frac{dL}{dW}$ in the case of $W$) that describes exactly how that function changes as the variable changes. This is a *partial derivative*.\n",
    "\n",
    "* If the entire function we want to compute is too big, we can decompose the derivative into steps: $L$ is a function of $y$, which is a function of $W$ in turn. We can say $\\frac{dL}{dW} = \\frac{dL}{dy}\\frac{dy}{dW}$. This is the chain rule from elementary calculus: just multiply the individual derivatives!\n",
    "\n",
    "* This means we only need to compute each of $\\frac{dL}{dy}$ and $\\frac{dy}{dW}$ individually, which ends up being much easier to do, especially if your full function is very large(as it is for most neural networks).\n",
    "\n",
    "* We can also compute a derivative $\\frac{dL}{db}$ for our other variable. In each case, we assume all other values ($b$ and $x$ in the case of $\\frac{dL}{dW}$ and $W$ and $x$ in the case of $\\frac{dL}{db}$) are *constant* and do not change. Because of this, we still need to make small steps using SGD above.\n",
    "\n",
    "We won't go over how to compute deriviatives right now. Any *continuous* function (a function $f(x)$ has this property if the function exists for all values of $x$) is *differentiable* (derivatives can be computed), which means we can compute a derivative for most functions. \n",
    "\n",
    "---\n",
    "\n",
    "You now know the core math behind neural networks. This is what makes neural networks powerful: we compute how to change each variable to improve our objective function while making small changes to the variables, repeating for many different inputs. \n",
    "\n",
    "Now, how can we apply this to our example network from before? Take three derivative functions:\n",
    "\n",
    "* $\\frac{dL}{dy} = \\begin{cases}\n",
    "    -1 & \\text{if } x \\leq 0\\\\\n",
    "    1 & \\text{if } x > 0\n",
    " \\end{cases} $\n",
    "  \n",
    "* $\\frac{dy}{dW} = x$\n",
    "* $\\frac{dy}{db} = 1$ \n",
    "\n",
    "**Questions**\n",
    "\n",
    "Write down $\\frac{dL}{dW}$ and $\\frac{dL}{db}$. If $x = 2$, what will each of them be? How about for $x = -3$? $x = 10$?\n",
    "\n",
    "We can update our parameters as $W_{t+1} = W_t -eta *frac{dL}{dW}$\n",
    "$\\eta$(the Greek letter \"eta\") is a number, usually called the *learning rate(LR)* which specifies how much we should change for each iteration of SGD. $t$ indicates which iteration we are on(e.g. the first iteration, producing parameters to be used in the second iteration, and so on). Normally we might do some thousands of iterations, depending on our data.\n",
    "\n",
    "Using the sequence of values of $x$ above and $\\eta = 0.1$, what will $W$ and $b$ be after doing SGD for each of them in the given order? Will their values be different if the values of $x$ were presented in a different order?\n",
    "\n",
    "(Advanced) Now suppose we add another layer to our network, so we have $y_1 = W_1x + b_1$ and $y_2 = W_2y_1 + b_2$, with $L$ taking $y_2$ in place of $y$. What is $\\frac{dL}{dW_1}$? Remember that the chain rule/backpropagation can be applied multiple times, and that $y_2$ is a function of $y_1$.\n"
   ]
  },
  {
   "cell_type": "markdown",
   "metadata": {
    "colab_type": "text",
    "id": "txTqpG7MOBTf"
   },
   "source": [
    "Okay, now that we understand neural networks and have looked at our data, let's define a simple neural network, consisting of 10 neurons, one for each digit."
   ]
  },
  {
   "cell_type": "code",
   "execution_count": 13,
   "metadata": {
    "colab": {
     "autoexec": {
      "startup": false,
      "wait_interval": 0
     }
    },
    "colab_type": "code",
    "id": "PQn8hE2bOVOg"
   },
   "outputs": [],
   "source": [
    "class SimpleNet(nn.Module):\n",
    "\n",
    "  #Initialize some components of our network\n",
    "  def __init__(self, n_inputs, n_neurons = 10):\n",
    "    super(SimpleNet, self).__init__()\n",
    "    \n",
    "    self.n_inputs = n_inputs\n",
    "    self.n_neurons = n_neurons\n",
    "    \n",
    "    #Pre-implemented FC layer. You will implement this yourself later.\n",
    "    #Takes in an MNIST image(usually 28 by 28 pixels) and outputs 10 values\n",
    "    \n",
    "    #QUESTION: If x is an image and y the output, with W and b being weights\n",
    "    #and biases, what function does this compute?\n",
    "    #QUESTION: What is the shape of the weight matrix of this network?\n",
    "    #Hint: For a fully-connected layer, it needs a value mapping each\n",
    "    #input value to each output value\n",
    "    self.fc = nn.Linear(self.n_inputs, self.n_neurons)\n",
    "    \n",
    "  # Computes the \"forward pass\" of the network.\n",
    "  # In this case, we take in an image x, flatten it into a vector,\n",
    "  # matrix multiply it with the weight matrix, and add the bias vector.\n",
    "\n",
    "  # The result is 10 values, which, with the right loss function,\n",
    "  # we can interpret as the probability of the given image being each of 0-9.\n",
    "\n",
    "  def forward(self, x):\n",
    "    # Apply the network\n",
    "    x = self.fc(x)\n",
    "    return x\n",
    "  \n",
    "    "
   ]
  },
  {
   "cell_type": "markdown",
   "metadata": {
    "colab_type": "text",
    "id": "J7in5_NzcLYe"
   },
   "source": [
    "If each image were 2 x 2 pixels and we only had three digit classes, what would the above network look like?"
   ]
  },
  {
   "cell_type": "code",
   "execution_count": 14,
   "metadata": {
    "colab": {
     "autoexec": {
      "startup": false,
      "wait_interval": 0
     }
    },
    "colab_type": "code",
    "id": "Vhkv4Ebucyw6"
   },
   "outputs": [],
   "source": [
    "#Let's define a function to visualize our training performance\n",
    "def visualize(t, errcl, w, x):\n",
    "    errorrate = np.divide(\n",
    "        np.cumsum(errcl[: t + 1]),\n",
    "        range(1, t + 2)\n",
    "    )\n",
    "\n",
    "    display.clear_output(wait=True)\n",
    "\n",
    "    plt.subplot(1, 3, 1)\n",
    "    plot_image(w.view((28,28)))\n",
    "    plt.title(\"weight vector at t = \" + str(t + 1))\n",
    "\n",
    "    plt.subplot(1, 3, 2)\n",
    "    plot_image(x.view((28,28)))\n",
    "    plt.title(\"input vector\")\n",
    "\n",
    "    plt.subplot(1, 3, 3)\n",
    "    plt.plot(errorrate, color='red')\n",
    "    plt.title(\"average class error = \" + str(errorrate[t]))\n",
    "    #plt.ylim(0, 1)\n",
    "\n",
    "    plt.subplots_adjust(wspace=.5)\n",
    "\n",
    "    plt.gcf().set_size_inches(18.5, 10.5)\n",
    "    display.display(plt.gcf())"
   ]
  },
  {
   "cell_type": "markdown",
   "metadata": {
    "colab_type": "text",
    "id": "I5J049ulcDyT"
   },
   "source": [
    "Let's define the parameters we need to train our network"
   ]
  },
  {
   "cell_type": "code",
   "execution_count": 15,
   "metadata": {
    "colab": {
     "autoexec": {
      "startup": false,
      "wait_interval": 0
     }
    },
    "colab_type": "code",
    "id": "5Hnu6d-acIer"
   },
   "outputs": [],
   "source": [
    "n = 28*28   # number of image pixels\n",
    "m = 60000   # number of images in training set\n",
    "eta = 0.0000001  # learning rate parameter\n",
    "tmax = 60000   # number of learning updates"
   ]
  },
  {
   "cell_type": "code",
   "execution_count": 16,
   "metadata": {
    "colab": {
     "autoexec": {
      "startup": false,
      "wait_interval": 0
     }
    },
    "colab_type": "code",
    "id": "kS-HuhVEzUDB"
   },
   "outputs": [],
   "source": [
    "# Let's initialize our network\n",
    "net = SimpleNet(n, 10)"
   ]
  },
  {
   "cell_type": "markdown",
   "metadata": {
    "colab_type": "text",
    "id": "3ANy0uZoz2wj"
   },
   "source": [
    "\n",
    "Let's also define an optimizer. This object is responsible for changing the network's weights based on the gradient computed by the backwards pass.\n",
    "\n",
    "We will also need to define our loss function. We won't get into the math, but the cross-entropy loss is standard for classification. It takes in a set of values(one for each digit), weights them to produce a set of values that sum to 1 (representing the probability that this image is each digit class), and then compares to the \"true probability\" (probability 1 for the correct class, 0 for the other 9)."
   ]
  },
  {
   "cell_type": "code",
   "execution_count": 17,
   "metadata": {
    "colab": {
     "autoexec": {
      "startup": false,
      "wait_interval": 0
     }
    },
    "colab_type": "code",
    "id": "Am8xs5msca3y"
   },
   "outputs": [],
   "source": [
    "opt = torch.optim.SGD(net.parameters(), lr = eta)\n",
    "\n",
    "loss_func = nn.CrossEntropyLoss()"
   ]
  },
  {
   "cell_type": "markdown",
   "metadata": {
    "colab_type": "text",
    "id": "O-_2qhsEc6W6"
   },
   "source": [
    "Finally, here's our core training loop.\n",
    "We will do the following tmax times:\n",
    "\n",
    "1. At each iteration we get a new image at random\n",
    "2. We run our network on the image\n",
    "3. Then we compute the error, delta, by comparing the output to our known label for the digit \\\n",
    "4. We then update our network using that delta."
   ]
  },
  {
   "cell_type": "code",
   "execution_count": null,
   "metadata": {
    "colab": {
     "autoexec": {
      "startup": false,
      "wait_interval": 0
     },
     "base_uri": "https://localhost:8080/",
     "height": 3268
    },
    "colab_type": "code",
    "executionInfo": {
     "elapsed": 682,
     "status": "error",
     "timestamp": 1532468144773,
     "user": {
      "displayName": "Riley Simmons-Edler",
      "photoUrl": "https://lh3.googleusercontent.com/a/default-user=s128",
      "userId": "106443123906519806041"
     },
     "user_tz": 240
    },
    "id": "PLpQ_5Qoc5dj",
    "outputId": "8abd49e5-ca5d-43bf-d5aa-43110bc7960a"
   },
   "outputs": [
    {
     "data": {
      "image/png": "[encoded data removed]",
      "text/plain": [
       "<Figure size 1850x1050 with 3 Axes>"
      ]
     },
     "metadata": {},
     "output_type": "display_data"
    }
   ],
   "source": [
    "losses = []\n",
    "for t in range(0, tmax):     # iterate over the train steps\n",
    "    i = torch.floor(m*torch.rand(1)).long()    # choose a random example\n",
    "    x = trainimages[i].view(-1)                # flatten image\n",
    "    x = x.float() / 255.0                      # normalize max value to one \n",
    "    label = trainlabels[i]  # get true label as a float\n",
    "    probs = net(x)\n",
    "    loss = loss_func(probs.unsqueeze(0), label)\n",
    "    losses.append(loss.item()) # for visualization below\n",
    "    loss.backward()    #Call backwards to do backprop\n",
    "    opt.step()\n",
    "    if t % 1000 == 0:    # display every 1000 time steps\n",
    "        visualize(t, np.array(losses), net.fc.weight[label,:].detach(), x)        \n",
    "        time.sleep(0.01)    "
   ]
  },
  {
   "cell_type": "markdown",
   "metadata": {
    "colab_type": "text",
    "id": "XsklwIextD9x"
   },
   "source": [
    "Take a look at the output above. The left plot shows the weights learned for the current image class. Note that it resembles a \"canonical\" or \"average\" digit of that class. Why do you think that is? How might this set of weights make sense as a way to detect the respective digit class?\n",
    "\n",
    "Let's also test our network on the test set!"
   ]
  },
  {
   "cell_type": "code",
   "execution_count": null,
   "metadata": {
    "colab": {
     "autoexec": {
      "startup": false,
      "wait_interval": 0
     },
     "base_uri": "https://localhost:8080/",
     "height": 237
    },
    "colab_type": "code",
    "executionInfo": {
     "elapsed": 599,
     "status": "error",
     "timestamp": 1532468083739,
     "user": {
      "displayName": "Riley Simmons-Edler",
      "photoUrl": "https://lh3.googleusercontent.com/a/default-user=s128",
      "userId": "106443123906519806041"
     },
     "user_tz": 240
    },
    "id": "UFN6-9TktIuB",
    "outputId": "0750411c-aa24-4a25-9836-042e8df1f751"
   },
   "outputs": [],
   "source": [
    "correct = 0.0\n",
    "total = 0.0\n",
    "for i in range(len(testimages)):\n",
    "  x = testimages[i].view(-1)\n",
    "  x = x.float() / 255.0                      # normalize max value to one \n",
    "  label = testlabels[i]  # get true label as a float\n",
    "  probs = net(x)\n",
    "  predicted = F.softmax(probs).max(0)[1]\n",
    "  total += 1\n",
    "  correct += (predicted == label).sum().item()\n",
    "  \n",
    "print(\"Accuracy of the network on \" + str(len(testimages)) + \" test images: \" + str(100 * correct/total) + \"%\")"
   ]
  },
  {
   "cell_type": "markdown",
   "metadata": {
    "colab_type": "text",
    "id": "p3S8fUsVuxK7"
   },
   "source": [
    "How did we do? Much better than chance, certainly!\n",
    "\n",
    "Okay, so we've now got a simple neural network for classifying MNIST digits!\n",
    "However, we did it using a lot of built-in code in pytorch. Let's go back and implement some of that for our own satisfaction."
   ]
  },
  {
   "cell_type": "markdown",
   "metadata": {
    "colab_type": "text",
    "id": "9DGADEiqbQfw"
   },
   "source": [
    "**Question** \\\n",
    "Here's a new version of the network we defined above. Modify the forward(self, x) function to fill in the blanks.\n",
    "\n",
    "**HINT**: Use the torch.matmul() function to multiply the inputs by the weights in one pass.\n",
    "\n",
    "(**ADVANCED**) Let's add two more layers to our network! They should look similar to the first, but will make our network much more powerful. The network should look something like:\n",
    "* layer 1: n_inputs -> 32 neurons\n",
    "* layer 2: 32 neurons -> 64 neurons\n",
    "* layer 3: 64 neurons -> n_neurons\n"
   ]
  },
  {
   "cell_type": "code",
   "execution_count": null,
   "metadata": {
    "colab": {
     "autoexec": {
      "startup": false,
      "wait_interval": 0
     }
    },
    "colab_type": "code",
    "id": "C6iAuvDOfZoz"
   },
   "outputs": [],
   "source": [
    "#Let's define our own FC layer module\n",
    "class ourLinear(nn.Module):\n",
    "  \n",
    "  def __init__(self, n_inputs, n_outputs):\n",
    "    super(ourLinear, self).__init__()\n",
    "    self.n_inputs = n_inputs\n",
    "    self.n_outputs = n_outputs\n",
    "    \n",
    "    #Define parameters containing our weights and biases\n",
    "    #Parameter objects are Pytorch's way of indicating what variables\n",
    "    #need gradients computed via backpropagation\n",
    "    #Weight matrix needs to be specified with the number of outputs first\n",
    "    self.weight = nn.Parameter(torch.Tensor(self.n_outputs, self.n_inputs))\n",
    "    self.bias = nn.Parameter(torch.Tensor(self.n_outputs))\n",
    "    #also need a variable to hold the input to this layer for use in the backwards pass\n",
    "    self.input = None\n",
    "    \n",
    "    self.reset_parameters()\n",
    "    \n",
    "  #Define the forward pass for this layer\n",
    "  def forward(self, x):\n",
    "    #Save x for use in backwards pass gradient computation\n",
    "    #QUESTION: Why do we need x for the backward pass?\n",
    "    self.input = x.detach() #detach to avoid interfering with autograd\n",
    "    #Fill in here\n",
    "    #Multiply with weights\n",
    "    x = torch.matmul(x, self.weight.t())\n",
    "    #Add bias\n",
    "    x = x + self.bias\n",
    "    return x\n",
    "  \n",
    "  #Compute backwards pass given gradient of loss with respect to output\n",
    "  def backward(self, grad_output):\n",
    "    grad_output = grad_output.detach()\n",
    "    \n",
    "    #compute gradients with respect to each set of weights and the input\n",
    "    self.weight.grad = torch.matmul(self.input, grad_output)\n",
    "    \n",
    "    self.bias.grad = grad_output\n",
    "    \n",
    "    #Input is output of previous layer, so we can continue the backwards pass\n",
    "    grad_input = torch.matmul(self.weight, grad_output)\n",
    "   \n",
    "    return grad_input\n",
    "    \n",
    "  #We need a function to initialize our weights\n",
    "  def reset_parameters(self):\n",
    "    #A common solution for the weight matrix is to use a uniform distribution\n",
    "    stdv = 1.0 / math.sqrt(self.weight.size(1))\n",
    "    self.weight.data.uniform_(-stdv, stdv)\n",
    "    #bias is commonly initialized to zero\n",
    "    self.bias.data.zero_()\n",
    "    "
   ]
  },
  {
   "cell_type": "code",
   "execution_count": null,
   "metadata": {
    "colab": {
     "autoexec": {
      "startup": false,
      "wait_interval": 0
     }
    },
    "colab_type": "code",
    "id": "GjIaefOcbpJj"
   },
   "outputs": [],
   "source": [
    "class SimpleNet(nn.Module):\n",
    "\n",
    "  #Initialize some components of our network\n",
    "  def __init__(self, n_inputs, n_neurons = 10):\n",
    "    super(SimpleNet, self).__init__()\n",
    "    \n",
    "    self.n_inputs = n_inputs\n",
    "    self.n_neurons = n_neurons\n",
    "    \n",
    "    #Let's use the layer we implemented above rather than the original linear layer\n",
    "    self.fc = ourLinear(self.n_inputs, self.n_neurons)\n",
    "    \n",
    "    #Advanced implement additional layers as described above\n",
    "    #self.fc2 = ourLinear(???)\n",
    "    \n",
    "    #self.fc3 = ourLinear(???)\n",
    "    \n",
    "    \n",
    "  #Computes the \"forward pass\" of the network.\n",
    "  #In this case, we take in an image x, flatten it into a vector,\n",
    "  #matrix multiply it with the weight matrix, and add the bias vector\n",
    "  #The result is 10 values, which, with the right loss function,\n",
    "  #we can interpret as the probability of the given image being each of 0-9.\n",
    "  def forward(self, x):\n",
    "    #Apply the network\n",
    "    #Fill-in here\n",
    "    x = self.fc(x)\n",
    "    #Advanced fill-in here- uncomment the lines\n",
    "    #Let's apply non-linearities to make our three-layer network more expressive\n",
    "    #x = F.relu(x)\n",
    "    #Apply second layer\n",
    "    #x = ???\n",
    "    #Another non-linearity\n",
    "    #x = F.relu(x)\n",
    "    #Third layer\n",
    "    #x = ???\n",
    "    \n",
    "    return x\n",
    "  \n",
    "  #Let's compute the backwards pass of our network manually as well this time\n",
    "  #Takes as input the gradient of the network with respect to the loss function\n",
    "  def backward(self, grad):\n",
    "  \n",
    "    #output layer backwards pass\n",
    "    grad = self.fc.backward(grad)\n",
    "  \n",
    "    #lower layers\n",
    "\n",
    "    grad = self.fc2.backward(grad)\n",
    "    \n",
    "    grad = self.fc1.backward(grad)\n",
    "    \n",
    "    return grad\n",
    "  "
   ]
  },
  {
   "cell_type": "markdown",
   "metadata": {
    "colab_type": "text",
    "id": "i1VIXKnSeWCc"
   },
   "source": [
    "Once you've completed the above, run it using the previous training code and see what you get!\n",
    "\n",
    "If you filled in the advanced network, the performance should be much higher.\n",
    "\n",
    "Note that Pytorch is handling the backwards pass derivatives automatically based on the forward pass functions.\n",
    "\n",
    "**Question**\n",
    "Let's fix that and define it ourselves!\n"
   ]
  },
  {
   "cell_type": "code",
   "execution_count": null,
   "metadata": {
    "colab": {
     "autoexec": {
      "startup": false,
      "wait_interval": 0
     }
    },
    "colab_type": "code",
    "id": "IonoLuHMOZ3j"
   },
   "outputs": [],
   "source": [
    "#Let's initialize our network\n",
    "net = SimpleNet(n, 10)"
   ]
  },
  {
   "cell_type": "code",
   "execution_count": null,
   "metadata": {
    "colab": {
     "autoexec": {
      "startup": false,
      "wait_interval": 0
     }
    },
    "colab_type": "code",
    "id": "3sGRdWadOTN0"
   },
   "outputs": [],
   "source": [
    "opt = torch.optim.SGD(net.parameters(), lr = eta)\n",
    "\n",
    "loss_func = nn.CrossEntropyLoss()"
   ]
  },
  {
   "cell_type": "code",
   "execution_count": null,
   "metadata": {
    "colab": {
     "autoexec": {
      "startup": false,
      "wait_interval": 0
     },
     "base_uri": "https://localhost:8080/",
     "height": 2079
    },
    "colab_type": "code",
    "executionInfo": {
     "elapsed": 880,
     "status": "error",
     "timestamp": 1532469047309,
     "user": {
      "displayName": "Riley Simmons-Edler",
      "photoUrl": "https://lh3.googleusercontent.com/a/default-user=s128",
      "userId": "106443123906519806041"
     },
     "user_tz": 240
    },
    "id": "cIHzabOHOq0-",
    "outputId": "0e217a8a-f890-478b-87c3-24cadb7f1fec"
   },
   "outputs": [
    {
     "data": {
      "image/png": "[encoded data removed]",
      "text/plain": [
       "<matplotlib.figure.Figure at 0x7fbfb5f336d0>"
      ]
     },
     "metadata": {
      "tags": []
     },
     "output_type": "display_data"
    },
    {
     "ename": "KeyboardInterrupt",
     "evalue": "ignored",
     "output_type": "error",
     "traceback": [
      "\u001b[0;31m\u001b[0m",
      "\u001b[0;31mKeyboardInterrupt\u001b[0mTraceback (most recent call last)",
      "\u001b[0;32m<ipython-input-93-001c04aa3eef>\u001b[0m in \u001b[0;36m<module>\u001b[0;34m()\u001b[0m\n\u001b[1;32m      5\u001b[0m     \u001b[0mx\u001b[0m \u001b[0;34m=\u001b[0m \u001b[0mx\u001b[0m\u001b[0;34m.\u001b[0m\u001b[0mfloat\u001b[0m\u001b[0;34m(\u001b[0m\u001b[0;34m)\u001b[0m \u001b[0;34m/\u001b[0m \u001b[0;36m255.0\u001b[0m                      \u001b[0;31m# normalize max value to one\u001b[0m\u001b[0;34m\u001b[0m\u001b[0m\n\u001b[1;32m      6\u001b[0m     \u001b[0mlabel\u001b[0m \u001b[0;34m=\u001b[0m \u001b[0mtrainlabels\u001b[0m\u001b[0;34m[\u001b[0m\u001b[0mi\u001b[0m\u001b[0;34m]\u001b[0m  \u001b[0;31m# get true label as a float\u001b[0m\u001b[0;34m\u001b[0m\u001b[0m\n\u001b[0;32m----> 7\u001b[0;31m     \u001b[0mprobs\u001b[0m \u001b[0;34m=\u001b[0m \u001b[0mnet\u001b[0m\u001b[0;34m(\u001b[0m\u001b[0mx\u001b[0m\u001b[0;34m)\u001b[0m\u001b[0;34m\u001b[0m\u001b[0m\n\u001b[0m\u001b[1;32m      8\u001b[0m     \u001b[0mloss\u001b[0m \u001b[0;34m=\u001b[0m \u001b[0mloss_func\u001b[0m\u001b[0;34m(\u001b[0m\u001b[0mprobs\u001b[0m\u001b[0;34m.\u001b[0m\u001b[0munsqueeze\u001b[0m\u001b[0;34m(\u001b[0m\u001b[0;36m0\u001b[0m\u001b[0;34m)\u001b[0m\u001b[0;34m,\u001b[0m \u001b[0mlabel\u001b[0m\u001b[0;34m)\u001b[0m\u001b[0;34m\u001b[0m\u001b[0m\n\u001b[1;32m      9\u001b[0m     \u001b[0mlosses\u001b[0m\u001b[0;34m.\u001b[0m\u001b[0mappend\u001b[0m\u001b[0;34m(\u001b[0m\u001b[0mloss\u001b[0m\u001b[0;34m.\u001b[0m\u001b[0mitem\u001b[0m\u001b[0;34m(\u001b[0m\u001b[0;34m)\u001b[0m\u001b[0;34m)\u001b[0m\u001b[0;34m\u001b[0m\u001b[0m\n",
      "\u001b[0;32m/usr/local/lib/python2.7/dist-packages/torch/nn/modules/module.pyc\u001b[0m in \u001b[0;36m__call__\u001b[0;34m(self, *input, **kwargs)\u001b[0m\n\u001b[1;32m    489\u001b[0m             \u001b[0mresult\u001b[0m \u001b[0;34m=\u001b[0m \u001b[0mself\u001b[0m\u001b[0;34m.\u001b[0m\u001b[0m_slow_forward\u001b[0m\u001b[0;34m(\u001b[0m\u001b[0;34m*\u001b[0m\u001b[0minput\u001b[0m\u001b[0;34m,\u001b[0m \u001b[0;34m**\u001b[0m\u001b[0mkwargs\u001b[0m\u001b[0;34m)\u001b[0m\u001b[0;34m\u001b[0m\u001b[0m\n\u001b[1;32m    490\u001b[0m         \u001b[0;32melse\u001b[0m\u001b[0;34m:\u001b[0m\u001b[0;34m\u001b[0m\u001b[0m\n\u001b[0;32m--> 491\u001b[0;31m             \u001b[0mresult\u001b[0m \u001b[0;34m=\u001b[0m \u001b[0mself\u001b[0m\u001b[0;34m.\u001b[0m\u001b[0mforward\u001b[0m\u001b[0;34m(\u001b[0m\u001b[0;34m*\u001b[0m\u001b[0minput\u001b[0m\u001b[0;34m,\u001b[0m \u001b[0;34m**\u001b[0m\u001b[0mkwargs\u001b[0m\u001b[0;34m)\u001b[0m\u001b[0;34m\u001b[0m\u001b[0m\n\u001b[0m\u001b[1;32m    492\u001b[0m         \u001b[0;32mfor\u001b[0m \u001b[0mhook\u001b[0m \u001b[0;32min\u001b[0m \u001b[0mself\u001b[0m\u001b[0;34m.\u001b[0m\u001b[0m_forward_hooks\u001b[0m\u001b[0;34m.\u001b[0m\u001b[0mvalues\u001b[0m\u001b[0;34m(\u001b[0m\u001b[0;34m)\u001b[0m\u001b[0;34m:\u001b[0m\u001b[0;34m\u001b[0m\u001b[0m\n\u001b[1;32m    493\u001b[0m             \u001b[0mhook_result\u001b[0m \u001b[0;34m=\u001b[0m \u001b[0mhook\u001b[0m\u001b[0;34m(\u001b[0m\u001b[0mself\u001b[0m\u001b[0;34m,\u001b[0m \u001b[0minput\u001b[0m\u001b[0;34m,\u001b[0m \u001b[0mresult\u001b[0m\u001b[0;34m)\u001b[0m\u001b[0;34m\u001b[0m\u001b[0m\n",
      "\u001b[0;32m<ipython-input-90-8f0c415bae84>\u001b[0m in \u001b[0;36mforward\u001b[0;34m(self, x)\u001b[0m\n\u001b[1;32m     25\u001b[0m     \u001b[0;31m#Apply the network\u001b[0m\u001b[0;34m\u001b[0m\u001b[0;34m\u001b[0m\u001b[0m\n\u001b[1;32m     26\u001b[0m     \u001b[0;31m#Fill-in here\u001b[0m\u001b[0;34m\u001b[0m\u001b[0;34m\u001b[0m\u001b[0m\n\u001b[0;32m---> 27\u001b[0;31m     \u001b[0mx\u001b[0m \u001b[0;34m=\u001b[0m \u001b[0mself\u001b[0m\u001b[0;34m.\u001b[0m\u001b[0mfc\u001b[0m\u001b[0;34m(\u001b[0m\u001b[0mx\u001b[0m\u001b[0;34m)\u001b[0m\u001b[0;34m\u001b[0m\u001b[0m\n\u001b[0m\u001b[1;32m     28\u001b[0m     \u001b[0;31m#Advanced fill-in here- uncomment the lines\u001b[0m\u001b[0;34m\u001b[0m\u001b[0;34m\u001b[0m\u001b[0m\n\u001b[1;32m     29\u001b[0m     \u001b[0;31m#Let's apply non-linearities to make our three-layer network more expressive\u001b[0m\u001b[0;34m\u001b[0m\u001b[0;34m\u001b[0m\u001b[0m\n",
      "\u001b[0;32m/usr/local/lib/python2.7/dist-packages/torch/nn/modules/module.pyc\u001b[0m in \u001b[0;36m__call__\u001b[0;34m(self, *input, **kwargs)\u001b[0m\n\u001b[1;32m    489\u001b[0m             \u001b[0mresult\u001b[0m \u001b[0;34m=\u001b[0m \u001b[0mself\u001b[0m\u001b[0;34m.\u001b[0m\u001b[0m_slow_forward\u001b[0m\u001b[0;34m(\u001b[0m\u001b[0;34m*\u001b[0m\u001b[0minput\u001b[0m\u001b[0;34m,\u001b[0m \u001b[0;34m**\u001b[0m\u001b[0mkwargs\u001b[0m\u001b[0;34m)\u001b[0m\u001b[0;34m\u001b[0m\u001b[0m\n\u001b[1;32m    490\u001b[0m         \u001b[0;32melse\u001b[0m\u001b[0;34m:\u001b[0m\u001b[0;34m\u001b[0m\u001b[0m\n\u001b[0;32m--> 491\u001b[0;31m             \u001b[0mresult\u001b[0m \u001b[0;34m=\u001b[0m \u001b[0mself\u001b[0m\u001b[0;34m.\u001b[0m\u001b[0mforward\u001b[0m\u001b[0;34m(\u001b[0m\u001b[0;34m*\u001b[0m\u001b[0minput\u001b[0m\u001b[0;34m,\u001b[0m \u001b[0;34m**\u001b[0m\u001b[0mkwargs\u001b[0m\u001b[0;34m)\u001b[0m\u001b[0;34m\u001b[0m\u001b[0m\n\u001b[0m\u001b[1;32m    492\u001b[0m         \u001b[0;32mfor\u001b[0m \u001b[0mhook\u001b[0m \u001b[0;32min\u001b[0m \u001b[0mself\u001b[0m\u001b[0;34m.\u001b[0m\u001b[0m_forward_hooks\u001b[0m\u001b[0;34m.\u001b[0m\u001b[0mvalues\u001b[0m\u001b[0;34m(\u001b[0m\u001b[0;34m)\u001b[0m\u001b[0;34m:\u001b[0m\u001b[0;34m\u001b[0m\u001b[0m\n\u001b[1;32m    493\u001b[0m             \u001b[0mhook_result\u001b[0m \u001b[0;34m=\u001b[0m \u001b[0mhook\u001b[0m\u001b[0;34m(\u001b[0m\u001b[0mself\u001b[0m\u001b[0;34m,\u001b[0m \u001b[0minput\u001b[0m\u001b[0;34m,\u001b[0m \u001b[0mresult\u001b[0m\u001b[0;34m)\u001b[0m\u001b[0;34m\u001b[0m\u001b[0m\n",
      "\u001b[0;32m<ipython-input-89-8ddbf4ed7737>\u001b[0m in \u001b[0;36mforward\u001b[0;34m(self, x)\u001b[0m\n\u001b[1;32m     21\u001b[0m     \u001b[0;31m#Save x for use in backwards pass gradient computation\u001b[0m\u001b[0;34m\u001b[0m\u001b[0;34m\u001b[0m\u001b[0m\n\u001b[1;32m     22\u001b[0m     \u001b[0;31m#QUESTION: Why do we need x for the backward pass?\u001b[0m\u001b[0;34m\u001b[0m\u001b[0;34m\u001b[0m\u001b[0m\n\u001b[0;32m---> 23\u001b[0;31m     \u001b[0mself\u001b[0m\u001b[0;34m.\u001b[0m\u001b[0minput\u001b[0m \u001b[0;34m=\u001b[0m \u001b[0mx\u001b[0m\u001b[0;34m.\u001b[0m\u001b[0mdetach\u001b[0m\u001b[0;34m(\u001b[0m\u001b[0;34m)\u001b[0m \u001b[0;31m#detach to avoid interfering with autograd\u001b[0m\u001b[0;34m\u001b[0m\u001b[0m\n\u001b[0m\u001b[1;32m     24\u001b[0m     \u001b[0;31m#Fill in here\u001b[0m\u001b[0;34m\u001b[0m\u001b[0;34m\u001b[0m\u001b[0m\n\u001b[1;32m     25\u001b[0m     \u001b[0;31m#Multiply with weights\u001b[0m\u001b[0;34m\u001b[0m\u001b[0;34m\u001b[0m\u001b[0m\n",
      "\u001b[0;32m/usr/local/lib/python2.7/dist-packages/torch/nn/modules/module.pyc\u001b[0m in \u001b[0;36m__setattr__\u001b[0;34m(self, name, value)\u001b[0m\n\u001b[1;32m    574\u001b[0m                     \u001b[0mbuffers\u001b[0m\u001b[0;34m[\u001b[0m\u001b[0mname\u001b[0m\u001b[0;34m]\u001b[0m \u001b[0;34m=\u001b[0m \u001b[0mvalue\u001b[0m\u001b[0;34m\u001b[0m\u001b[0m\n\u001b[1;32m    575\u001b[0m                 \u001b[0;32melse\u001b[0m\u001b[0;34m:\u001b[0m\u001b[0;34m\u001b[0m\u001b[0m\n\u001b[0;32m--> 576\u001b[0;31m                     \u001b[0mobject\u001b[0m\u001b[0;34m.\u001b[0m\u001b[0m__setattr__\u001b[0m\u001b[0;34m(\u001b[0m\u001b[0mself\u001b[0m\u001b[0;34m,\u001b[0m \u001b[0mname\u001b[0m\u001b[0;34m,\u001b[0m \u001b[0mvalue\u001b[0m\u001b[0;34m)\u001b[0m\u001b[0;34m\u001b[0m\u001b[0m\n\u001b[0m\u001b[1;32m    577\u001b[0m \u001b[0;34m\u001b[0m\u001b[0m\n\u001b[1;32m    578\u001b[0m     \u001b[0;32mdef\u001b[0m \u001b[0m__delattr__\u001b[0m\u001b[0;34m(\u001b[0m\u001b[0mself\u001b[0m\u001b[0;34m,\u001b[0m \u001b[0mname\u001b[0m\u001b[0;34m)\u001b[0m\u001b[0;34m:\u001b[0m\u001b[0;34m\u001b[0m\u001b[0m\n",
      "\u001b[0;31mKeyboardInterrupt\u001b[0m: "
     ]
    },
    {
     "data": {
      "image/png": "[encoded data removed]",
      "text/plain": [
       "<matplotlib.figure.Figure at 0x7fbfb5f336d0>"
      ]
     },
     "metadata": {
      "tags": []
     },
     "output_type": "display_data"
    }
   ],
   "source": [
    "losses = []\n",
    "for t in range(0, tmax):     # iterate over the train steps\n",
    "    i = torch.floor(m*torch.rand(1)).long()    # choose a random example\n",
    "    x = trainimages[i].view(-1)                # flatten image\n",
    "    x = x.float() / 255.0                      # normalize max value to one \n",
    "    label = trainlabels[i]  # get true label as a float\n",
    "    probs = net(x)\n",
    "    loss = loss_func(probs.unsqueeze(0), label)\n",
    "    losses.append(loss.item())\n",
    "    loss.backward()    #Call backwards to do backprop\n",
    "    #Let's do the backwards pass manually!\n",
    "    net.backward(loss.grad)\n",
    "    opt.step()\n",
    "    if t % 1000 == 0:    # display every 1000 time steps\n",
    "        visualize(t, np.array(losses), net.fc.weight[label,:].detach(), x)        \n",
    "        time.sleep(0.01) "
   ]
  }
 ],
 "metadata": {
  "colab": {
   "default_view": {},
   "name": "Copy of AI4ALL_neuralnets.ipynb",
   "provenance": [
    {
     "file_id": "1W-iZB_dCIXHHzEbJrHXiK6pqxi2qQ9k8",
     "timestamp": 1533520692325
    }
   ],
   "version": "0.3.2",
   "views": {}
  },
  "kernelspec": {
   "display_name": "Python 3",
   "language": "python",
   "name": "python3"
  },
  "language_info": {
   "codemirror_mode": {
    "name": "ipython",
    "version": 3
   },
   "file_extension": ".py",
   "mimetype": "text/x-python",
   "name": "python",
   "nbconvert_exporter": "python",
   "pygments_lexer": "ipython3",
   "version": "3.7.1"
  }
 },
 "nbformat": 4,
 "nbformat_minor": 2
}
