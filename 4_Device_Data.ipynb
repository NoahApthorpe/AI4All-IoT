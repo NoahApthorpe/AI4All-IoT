{
 "cells": [
  {
   "cell_type": "markdown",
   "metadata": {},
   "source": [
    "## Day 4: Thursday 8/26/18\n",
    "\n",
    "### Finish Device Data Collection\n",
    "\n",
    "If you didn't get through all the data collection steps yesterday (some devices have more possible actions than others), continue working on those steps today.\n",
    "\n",
    "### Device Data Visualization\n",
    "\n",
    "Today we will be exploring the device data, trying to understand how the actions you performed with the devices are affected the devices' network traffic. \n",
    "1. Open Wireshark on your computer\n",
    "2. \"File > Open\" one of the .pcap files that the TAs sent to you with the network traffic from one of your devices. \n",
    "3. Play around with the analysis tools you used on Tuesday for the Internet browsing traffic.  Try to come up with at least one summary or visualization that you find interesting to show the class.\n",
    "4. Each group will have a chance to put their data on the main projector for everyone to explore and discuss as a group.\n",
    "\n",
    "### Data Collection Discussion and Recap\n",
    "\n",
    "We'll wrap up the data collection part of the project with a discussion about what we learned, what surprised us, and how this will inform the upcoming artificial intelligence portion of the project. "
   ]
  }
 ],
 "metadata": {
  "kernelspec": {
   "display_name": "Python 3",
   "language": "python",
   "name": "python3"
  },
  "language_info": {
   "codemirror_mode": {
    "name": "ipython",
    "version": 3
   },
   "file_extension": ".py",
   "mimetype": "text/x-python",
   "name": "python",
   "nbconvert_exporter": "python",
   "pygments_lexer": "ipython3",
   "version": "3.6.5"
  }
 },
 "nbformat": 4,
 "nbformat_minor": 2
}
