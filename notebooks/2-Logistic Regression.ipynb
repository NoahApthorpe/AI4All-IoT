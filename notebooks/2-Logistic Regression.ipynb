{
 "cells": [
  {
   "cell_type": "markdown",
   "metadata": {},
   "source": [
    "## Logistic Regression\n",
    "\n",
    "Logistic Regression is very similar to linear regression, except all of the points can only have $y$-values of $1$ or $0$. This is useful if we want to predict whether something is or isn't part of a particular class. Instead of fitting a line (as in linear regression), logistic regression involves fitting a probability curve.\n",
    "\n",
    "For example, using our device traffic, let's see whether we can predict a DNS packet is request or response from its length. \n",
    "\n",
    "First, let's import the data, extract only the DNS packets, and view the first few packets."
   ]
  },
  {
   "cell_type": "code",
   "execution_count": 1,
   "metadata": {},
   "outputs": [],
   "source": [
    "# Pandas, Numpy\n",
    "import numpy as np\n",
    "import pandas as pd\n",
    "\n",
    "# Machine Learning\n",
    "from sklearn.linear_model import LogisticRegression, LogisticRegressionCV\n",
    "\n",
    "# Plotting\n",
    "import matplotlib.pyplot as plt\n",
    "%matplotlib inline\n",
    "\n",
    "# Libraries for Processing Network Traffic\n",
    "import ipaddress\n",
    "import netaddr\n",
    "\n",
    "# Allow us to load modules from the parent directory\n",
    "import sys\n",
    "sys.path.append(\"../lib\") \n",
    "from parse_pcap import pcap_to_pandas, send_rates"
   ]
  },
  {
   "cell_type": "code",
   "execution_count": 2,
   "metadata": {},
   "outputs": [
    {
     "data": {
      "text/html": [
       "<div>\n",
       "<style scoped>\n",
       "    .dataframe tbody tr th:only-of-type {\n",
       "        vertical-align: middle;\n",
       "    }\n",
       "\n",
       "    .dataframe tbody tr th {\n",
       "        vertical-align: top;\n",
       "    }\n",
       "\n",
       "    .dataframe thead th {\n",
       "        text-align: right;\n",
       "    }\n",
       "</style>\n",
       "<table border=\"1\" class=\"dataframe\">\n",
       "  <thead>\n",
       "    <tr style=\"text-align: right;\">\n",
       "      <th></th>\n",
       "      <th>datetime</th>\n",
       "      <th>dns_query</th>\n",
       "      <th>dns_resp</th>\n",
       "      <th>ip_dst</th>\n",
       "      <th>ip_dst_int</th>\n",
       "      <th>ip_src</th>\n",
       "      <th>ip_src_int</th>\n",
       "      <th>is_dns</th>\n",
       "      <th>length</th>\n",
       "      <th>mac_dst</th>\n",
       "      <th>mac_dst_int</th>\n",
       "      <th>mac_src</th>\n",
       "      <th>mac_src_int</th>\n",
       "      <th>port_dst</th>\n",
       "      <th>port_src</th>\n",
       "      <th>protocol</th>\n",
       "      <th>time</th>\n",
       "      <th>time_normed</th>\n",
       "    </tr>\n",
       "  </thead>\n",
       "  <tbody>\n",
       "    <tr>\n",
       "      <th>16</th>\n",
       "      <td>2017-12-07 14:48:44</td>\n",
       "      <td>b'clients1.google.com.'</td>\n",
       "      <td>None</td>\n",
       "      <td>8.8.8.8</td>\n",
       "      <td>1.347441e+08</td>\n",
       "      <td>172.24.1.51</td>\n",
       "      <td>2.887254e+09</td>\n",
       "      <td>True</td>\n",
       "      <td>79</td>\n",
       "      <td>b8:27:eb:2d:24:15</td>\n",
       "      <td>202481588839445</td>\n",
       "      <td>a4:77:33:2f:e0:6e</td>\n",
       "      <td>180831866839150</td>\n",
       "      <td>53.0</td>\n",
       "      <td>43659.0</td>\n",
       "      <td>UDP</td>\n",
       "      <td>1512679724.399009</td>\n",
       "      <td>3.242926</td>\n",
       "    </tr>\n",
       "    <tr>\n",
       "      <th>17</th>\n",
       "      <td>2017-12-07 14:48:44</td>\n",
       "      <td>b'pool.ntp.org.'</td>\n",
       "      <td>None</td>\n",
       "      <td>8.8.8.8</td>\n",
       "      <td>1.347441e+08</td>\n",
       "      <td>172.24.1.51</td>\n",
       "      <td>2.887254e+09</td>\n",
       "      <td>True</td>\n",
       "      <td>72</td>\n",
       "      <td>b8:27:eb:2d:24:15</td>\n",
       "      <td>202481588839445</td>\n",
       "      <td>a4:77:33:2f:e0:6e</td>\n",
       "      <td>180831866839150</td>\n",
       "      <td>53.0</td>\n",
       "      <td>37402.0</td>\n",
       "      <td>UDP</td>\n",
       "      <td>1512679724.419893</td>\n",
       "      <td>3.263810</td>\n",
       "    </tr>\n",
       "    <tr>\n",
       "      <th>18</th>\n",
       "      <td>2017-12-07 14:48:44</td>\n",
       "      <td>b'clients1.google.com.'</td>\n",
       "      <td>b'clients1.google.com.'</td>\n",
       "      <td>172.24.1.51</td>\n",
       "      <td>2.887254e+09</td>\n",
       "      <td>8.8.8.8</td>\n",
       "      <td>1.347441e+08</td>\n",
       "      <td>True</td>\n",
       "      <td>119</td>\n",
       "      <td>a4:77:33:2f:e0:6e</td>\n",
       "      <td>180831866839150</td>\n",
       "      <td>b8:27:eb:2d:24:15</td>\n",
       "      <td>202481588839445</td>\n",
       "      <td>43659.0</td>\n",
       "      <td>53.0</td>\n",
       "      <td>UDP</td>\n",
       "      <td>1512679724.423984</td>\n",
       "      <td>3.267901</td>\n",
       "    </tr>\n",
       "    <tr>\n",
       "      <th>23</th>\n",
       "      <td>2017-12-07 14:48:44</td>\n",
       "      <td>b'pool.ntp.org.'</td>\n",
       "      <td>b'pool.ntp.org.'</td>\n",
       "      <td>172.24.1.51</td>\n",
       "      <td>2.887254e+09</td>\n",
       "      <td>8.8.8.8</td>\n",
       "      <td>1.347441e+08</td>\n",
       "      <td>True</td>\n",
       "      <td>136</td>\n",
       "      <td>a4:77:33:2f:e0:6e</td>\n",
       "      <td>180831866839150</td>\n",
       "      <td>b8:27:eb:2d:24:15</td>\n",
       "      <td>202481588839445</td>\n",
       "      <td>37402.0</td>\n",
       "      <td>53.0</td>\n",
       "      <td>UDP</td>\n",
       "      <td>1512679724.458457</td>\n",
       "      <td>3.302374</td>\n",
       "    </tr>\n",
       "    <tr>\n",
       "      <th>27</th>\n",
       "      <td>2017-12-07 14:48:44</td>\n",
       "      <td>b'_googlecast._tcp.local.'</td>\n",
       "      <td>None</td>\n",
       "      <td>224.0.0.251</td>\n",
       "      <td>3.758097e+09</td>\n",
       "      <td>172.24.1.51</td>\n",
       "      <td>2.887254e+09</td>\n",
       "      <td>True</td>\n",
       "      <td>82</td>\n",
       "      <td>01:00:5e:00:00:fb</td>\n",
       "      <td>1101088686331</td>\n",
       "      <td>a4:77:33:2f:e0:6e</td>\n",
       "      <td>180831866839150</td>\n",
       "      <td>5353.0</td>\n",
       "      <td>5353.0</td>\n",
       "      <td>UDP</td>\n",
       "      <td>1512679724.480588</td>\n",
       "      <td>3.324505</td>\n",
       "    </tr>\n",
       "  </tbody>\n",
       "</table>\n",
       "</div>"
      ],
      "text/plain": [
       "              datetime                   dns_query                 dns_resp  \\\n",
       "16 2017-12-07 14:48:44     b'clients1.google.com.'                     None   \n",
       "17 2017-12-07 14:48:44            b'pool.ntp.org.'                     None   \n",
       "18 2017-12-07 14:48:44     b'clients1.google.com.'  b'clients1.google.com.'   \n",
       "23 2017-12-07 14:48:44            b'pool.ntp.org.'         b'pool.ntp.org.'   \n",
       "27 2017-12-07 14:48:44  b'_googlecast._tcp.local.'                     None   \n",
       "\n",
       "         ip_dst    ip_dst_int       ip_src    ip_src_int  is_dns  length  \\\n",
       "16      8.8.8.8  1.347441e+08  172.24.1.51  2.887254e+09    True      79   \n",
       "17      8.8.8.8  1.347441e+08  172.24.1.51  2.887254e+09    True      72   \n",
       "18  172.24.1.51  2.887254e+09      8.8.8.8  1.347441e+08    True     119   \n",
       "23  172.24.1.51  2.887254e+09      8.8.8.8  1.347441e+08    True     136   \n",
       "27  224.0.0.251  3.758097e+09  172.24.1.51  2.887254e+09    True      82   \n",
       "\n",
       "              mac_dst      mac_dst_int            mac_src      mac_src_int  \\\n",
       "16  b8:27:eb:2d:24:15  202481588839445  a4:77:33:2f:e0:6e  180831866839150   \n",
       "17  b8:27:eb:2d:24:15  202481588839445  a4:77:33:2f:e0:6e  180831866839150   \n",
       "18  a4:77:33:2f:e0:6e  180831866839150  b8:27:eb:2d:24:15  202481588839445   \n",
       "23  a4:77:33:2f:e0:6e  180831866839150  b8:27:eb:2d:24:15  202481588839445   \n",
       "27  01:00:5e:00:00:fb    1101088686331  a4:77:33:2f:e0:6e  180831866839150   \n",
       "\n",
       "    port_dst  port_src protocol               time time_normed  \n",
       "16      53.0   43659.0      UDP  1512679724.399009    3.242926  \n",
       "17      53.0   37402.0      UDP  1512679724.419893    3.263810  \n",
       "18   43659.0      53.0      UDP  1512679724.423984    3.267901  \n",
       "23   37402.0      53.0      UDP  1512679724.458457    3.302374  \n",
       "27    5353.0    5353.0      UDP  1512679724.480588    3.324505  "
      ]
     },
     "execution_count": 2,
     "metadata": {},
     "output_type": "execute_result"
    }
   ],
   "source": [
    "pcap = pcap_to_pandas('../pcaps/google_home.pcap') # this can take a few minutes\n",
    "\n",
    "# Pandas Dataframe with only DNS packets\n",
    "dns_packets = pcap.loc[pcap['is_dns'] == True];\n",
    "dns_packets.head(5)"
   ]
  },
  {
   "cell_type": "markdown",
   "metadata": {},
   "source": [
    "Each row in the printed data is a packet and each column is a feature of the packet.\n",
    "\n",
    "Next let's divide the DNS packets into requests and repsonses, and convert them into points where the $x$-value is the length of the packet and $y$-value is $0$ for requests and $1$ for responses. This will allow us to fit the data to a logistic regression curve."
   ]
  },
  {
   "cell_type": "code",
   "execution_count": 3,
   "metadata": {},
   "outputs": [
    {
     "data": {
      "text/html": [
       "<div>\n",
       "<style scoped>\n",
       "    .dataframe tbody tr th:only-of-type {\n",
       "        vertical-align: middle;\n",
       "    }\n",
       "\n",
       "    .dataframe tbody tr th {\n",
       "        vertical-align: top;\n",
       "    }\n",
       "\n",
       "    .dataframe thead th {\n",
       "        text-align: right;\n",
       "    }\n",
       "</style>\n",
       "<table border=\"1\" class=\"dataframe\">\n",
       "  <thead>\n",
       "    <tr style=\"text-align: right;\">\n",
       "      <th></th>\n",
       "      <th>length</th>\n",
       "      <th>dns_resp</th>\n",
       "    </tr>\n",
       "  </thead>\n",
       "  <tbody>\n",
       "    <tr>\n",
       "      <th>16</th>\n",
       "      <td>79</td>\n",
       "      <td>None</td>\n",
       "    </tr>\n",
       "    <tr>\n",
       "      <th>17</th>\n",
       "      <td>72</td>\n",
       "      <td>None</td>\n",
       "    </tr>\n",
       "    <tr>\n",
       "      <th>18</th>\n",
       "      <td>119</td>\n",
       "      <td>b'clients1.google.com.'</td>\n",
       "    </tr>\n",
       "    <tr>\n",
       "      <th>23</th>\n",
       "      <td>136</td>\n",
       "      <td>b'pool.ntp.org.'</td>\n",
       "    </tr>\n",
       "    <tr>\n",
       "      <th>27</th>\n",
       "      <td>82</td>\n",
       "      <td>None</td>\n",
       "    </tr>\n",
       "    <tr>\n",
       "      <th>33</th>\n",
       "      <td>390</td>\n",
       "      <td>b'Google-Home-de204bc3dc23ad2c371dacfd3019540a...</td>\n",
       "    </tr>\n",
       "    <tr>\n",
       "      <th>34</th>\n",
       "      <td>250</td>\n",
       "      <td>b'de204bc3-dc23-ad2c-371d-acfd3019540a._google...</td>\n",
       "    </tr>\n",
       "    <tr>\n",
       "      <th>35</th>\n",
       "      <td>75</td>\n",
       "      <td>None</td>\n",
       "    </tr>\n",
       "    <tr>\n",
       "      <th>36</th>\n",
       "      <td>91</td>\n",
       "      <td>b'www.gstatic.com.'</td>\n",
       "    </tr>\n",
       "    <tr>\n",
       "      <th>44</th>\n",
       "      <td>390</td>\n",
       "      <td>b'Google-Home-de204bc3dc23ad2c371dacfd3019540a...</td>\n",
       "    </tr>\n",
       "  </tbody>\n",
       "</table>\n",
       "</div>"
      ],
      "text/plain": [
       "    length                                           dns_resp\n",
       "16      79                                               None\n",
       "17      72                                               None\n",
       "18     119                            b'clients1.google.com.'\n",
       "23     136                                   b'pool.ntp.org.'\n",
       "27      82                                               None\n",
       "33     390  b'Google-Home-de204bc3dc23ad2c371dacfd3019540a...\n",
       "34     250  b'de204bc3-dc23-ad2c-371d-acfd3019540a._google...\n",
       "35      75                                               None\n",
       "36      91                                b'www.gstatic.com.'\n",
       "44     390  b'Google-Home-de204bc3dc23ad2c371dacfd3019540a..."
      ]
     },
     "execution_count": 3,
     "metadata": {},
     "output_type": "execute_result"
    }
   ],
   "source": [
    "dns_ft = dns_packets.loc[:,['length','dns_resp']]\n",
    "dns_ft.head(10)"
   ]
  },
  {
   "cell_type": "markdown",
   "metadata": {},
   "source": [
    "Let's see how many data points we have."
   ]
  },
  {
   "cell_type": "code",
   "execution_count": 4,
   "metadata": {},
   "outputs": [
    {
     "data": {
      "text/plain": [
       "(1361, 2)"
      ]
     },
     "execution_count": 4,
     "metadata": {},
     "output_type": "execute_result"
    }
   ],
   "source": [
    "dns_ft.shape"
   ]
  },
  {
   "cell_type": "markdown",
   "metadata": {},
   "source": [
    "Next we will convert the DNS response column into a 0/1 value so that it is amenable to logstic regression."
   ]
  },
  {
   "cell_type": "code",
   "execution_count": 5,
   "metadata": {},
   "outputs": [
    {
     "data": {
      "text/html": [
       "<div>\n",
       "<style scoped>\n",
       "    .dataframe tbody tr th:only-of-type {\n",
       "        vertical-align: middle;\n",
       "    }\n",
       "\n",
       "    .dataframe tbody tr th {\n",
       "        vertical-align: top;\n",
       "    }\n",
       "\n",
       "    .dataframe thead th {\n",
       "        text-align: right;\n",
       "    }\n",
       "</style>\n",
       "<table border=\"1\" class=\"dataframe\">\n",
       "  <thead>\n",
       "    <tr style=\"text-align: right;\">\n",
       "      <th></th>\n",
       "      <th>length</th>\n",
       "      <th>dns_resp</th>\n",
       "      <th>response</th>\n",
       "    </tr>\n",
       "  </thead>\n",
       "  <tbody>\n",
       "    <tr>\n",
       "      <th>16</th>\n",
       "      <td>79</td>\n",
       "      <td>None</td>\n",
       "      <td>0</td>\n",
       "    </tr>\n",
       "    <tr>\n",
       "      <th>17</th>\n",
       "      <td>72</td>\n",
       "      <td>None</td>\n",
       "      <td>0</td>\n",
       "    </tr>\n",
       "    <tr>\n",
       "      <th>18</th>\n",
       "      <td>119</td>\n",
       "      <td>b'clients1.google.com.'</td>\n",
       "      <td>1</td>\n",
       "    </tr>\n",
       "    <tr>\n",
       "      <th>23</th>\n",
       "      <td>136</td>\n",
       "      <td>b'pool.ntp.org.'</td>\n",
       "      <td>1</td>\n",
       "    </tr>\n",
       "    <tr>\n",
       "      <th>27</th>\n",
       "      <td>82</td>\n",
       "      <td>None</td>\n",
       "      <td>0</td>\n",
       "    </tr>\n",
       "    <tr>\n",
       "      <th>33</th>\n",
       "      <td>390</td>\n",
       "      <td>b'Google-Home-de204bc3dc23ad2c371dacfd3019540a...</td>\n",
       "      <td>1</td>\n",
       "    </tr>\n",
       "    <tr>\n",
       "      <th>34</th>\n",
       "      <td>250</td>\n",
       "      <td>b'de204bc3-dc23-ad2c-371d-acfd3019540a._google...</td>\n",
       "      <td>1</td>\n",
       "    </tr>\n",
       "    <tr>\n",
       "      <th>35</th>\n",
       "      <td>75</td>\n",
       "      <td>None</td>\n",
       "      <td>0</td>\n",
       "    </tr>\n",
       "    <tr>\n",
       "      <th>36</th>\n",
       "      <td>91</td>\n",
       "      <td>b'www.gstatic.com.'</td>\n",
       "      <td>1</td>\n",
       "    </tr>\n",
       "    <tr>\n",
       "      <th>44</th>\n",
       "      <td>390</td>\n",
       "      <td>b'Google-Home-de204bc3dc23ad2c371dacfd3019540a...</td>\n",
       "      <td>1</td>\n",
       "    </tr>\n",
       "  </tbody>\n",
       "</table>\n",
       "</div>"
      ],
      "text/plain": [
       "    length                                           dns_resp  response\n",
       "16      79                                               None         0\n",
       "17      72                                               None         0\n",
       "18     119                            b'clients1.google.com.'         1\n",
       "23     136                                   b'pool.ntp.org.'         1\n",
       "27      82                                               None         0\n",
       "33     390  b'Google-Home-de204bc3dc23ad2c371dacfd3019540a...         1\n",
       "34     250  b'de204bc3-dc23-ad2c-371d-acfd3019540a._google...         1\n",
       "35      75                                               None         0\n",
       "36      91                                b'www.gstatic.com.'         1\n",
       "44     390  b'Google-Home-de204bc3dc23ad2c371dacfd3019540a...         1"
      ]
     },
     "execution_count": 5,
     "metadata": {},
     "output_type": "execute_result"
    }
   ],
   "source": [
    "dns_ft['response'] = dns_ft['dns_resp'].astype(bool)\n",
    "dns_ft['response'] = dns_ft['response'].astype(int)\n",
    "dns_ft.head(10)"
   ]
  },
  {
   "cell_type": "code",
   "execution_count": 6,
   "metadata": {},
   "outputs": [
    {
     "data": {
      "image/png": "[encoded data removed]",
      "text/plain": [
       "<Figure size 432x288 with 1 Axes>"
      ]
     },
     "metadata": {
      "needs_background": "light"
     },
     "output_type": "display_data"
    }
   ],
   "source": [
    "x = dns_ft['length'].values\n",
    "y = dns_ft['response'].values\n",
    "\n",
    "plt.plot(x,y, 'x', color='red')\n",
    "plt.ylabel(\"Request (0) or Response (1)\")\n",
    "plt.xlabel(\"DNS Packet Length (Bytes)\")\n",
    "plt.grid(linestyle='--', alpha=0.6)\n",
    "plt.show()"
   ]
  },
  {
   "cell_type": "code",
   "execution_count": 7,
   "metadata": {},
   "outputs": [
    {
     "data": {
      "text/plain": [
       "LogisticRegression(C=1)"
      ]
     },
     "execution_count": 7,
     "metadata": {},
     "output_type": "execute_result"
    }
   ],
   "source": [
    "regr = LogisticRegression(solver='lbfgs', C=1)\n",
    "regr.fit(x.reshape(-1,1),y)"
   ]
  },
  {
   "cell_type": "code",
   "execution_count": 8,
   "metadata": {},
   "outputs": [
    {
     "data": {
      "image/png": "[encoded data removed]",
      "text/plain": [
       "<Figure size 432x288 with 1 Axes>"
      ]
     },
     "metadata": {
      "needs_background": "light"
     },
     "output_type": "display_data"
    }
   ],
   "source": [
    "# Plot data\n",
    "# z is a simple number line 1 to 600\n",
    "z = np.arange(1, 600, 0.5).reshape(-1, 1);\n",
    "\n",
    "# prediction: plot the number line against the predictions for those values\n",
    "plt.plot(z, regr.predict_proba(z)[:, 1], color='green');\n",
    "plt.plot(x,y, 'x', color='red')\n",
    "plt.ylabel(\"Request (0) or Response (1)\")\n",
    "plt.xlabel(\"DNS Packet Length\")\n",
    "plt.grid(linestyle='--', alpha=0.6)\n",
    "plt.show()"
   ]
  },
  {
   "cell_type": "markdown",
   "metadata": {},
   "source": [
    "---\n",
    "\n",
    "## Model Selection/Cross Validation\n",
    "\n",
    "How do we know we have a good model? How do we know that the machine learning algorithm is \"good\"?\n",
    "\n",
    "We can perform a K-fold cross-validaion on the data: \n",
    "* holding out 1/K of the data for testing, \n",
    "* training on the reamining data, \n",
    "* repeating this K times, one for each fold\n",
    "* averaging the resulting accuracy/score of the model"
   ]
  },
  {
   "cell_type": "code",
   "execution_count": 9,
   "metadata": {},
   "outputs": [],
   "source": [
    "from sklearn.model_selection import KFold, cross_val_score\n",
    "\n",
    "kf = KFold(n_splits=5)\n",
    "\n",
    "cv_results = cross_val_score(regr,\n",
    "                             x.reshape(-1,1),\n",
    "                             y,\n",
    "                             cv=kf,\n",
    "                             scoring=\"accuracy\")"
   ]
  },
  {
   "cell_type": "code",
   "execution_count": 10,
   "metadata": {},
   "outputs": [
    {
     "data": {
      "text/plain": [
       "array([0.86446886, 0.93014706, 0.9375    , 0.86029412, 0.70220588])"
      ]
     },
     "execution_count": 10,
     "metadata": {},
     "output_type": "execute_result"
    }
   ],
   "source": [
    "cv_results"
   ]
  },
  {
   "cell_type": "code",
   "execution_count": 11,
   "metadata": {},
   "outputs": [
    {
     "data": {
      "text/plain": [
       "0.8589231846584788"
      ]
     },
     "execution_count": 11,
     "metadata": {},
     "output_type": "execute_result"
    }
   ],
   "source": [
    "cv_results.mean()"
   ]
  },
  {
   "cell_type": "markdown",
   "metadata": {},
   "source": [
    "### Hyper-Parameter Tuning: Grid Search\n",
    "\n",
    "Grid search can allow for hyper-parameter tuning, with cross validation, such as a the k-fold cross validation that we just performed.  The search performs the evaluation above, automating the search through the set of all possible parameters dedined in the grid.\n",
    "\n",
    "The resulting model is returned as a result, and a model can be generated from the training data by calling `fit` on the results of the search."
   ]
  },
  {
   "cell_type": "code",
   "execution_count": 12,
   "metadata": {},
   "outputs": [],
   "source": [
    "from sklearn.model_selection import GridSearchCV\n",
    "\n",
    "k = 5\n",
    "C_range = np.arange(1,5,1)\n",
    "params = {\n",
    "    'C': C_range,\n",
    "}\n",
    "\n",
    "grid_model = GridSearchCV(estimator=regr,\n",
    "                          param_grid=params,\n",
    "                          cv=k,\n",
    "                          return_train_score=True,\n",
    "                          scoring='accuracy'                        )\n",
    "\n",
    "grid_model_result = grid_model.fit(x.reshape(-1,1),y)"
   ]
  },
  {
   "cell_type": "code",
   "execution_count": 13,
   "metadata": {},
   "outputs": [
    {
     "data": {
      "text/html": [
       "<div>\n",
       "<style scoped>\n",
       "    .dataframe tbody tr th:only-of-type {\n",
       "        vertical-align: middle;\n",
       "    }\n",
       "\n",
       "    .dataframe tbody tr th {\n",
       "        vertical-align: top;\n",
       "    }\n",
       "\n",
       "    .dataframe thead th {\n",
       "        text-align: right;\n",
       "    }\n",
       "</style>\n",
       "<table border=\"1\" class=\"dataframe\">\n",
       "  <thead>\n",
       "    <tr style=\"text-align: right;\">\n",
       "      <th></th>\n",
       "      <th>mean_fit_time</th>\n",
       "      <th>std_fit_time</th>\n",
       "      <th>mean_score_time</th>\n",
       "      <th>std_score_time</th>\n",
       "      <th>param_C</th>\n",
       "      <th>params</th>\n",
       "      <th>split0_test_score</th>\n",
       "      <th>split1_test_score</th>\n",
       "      <th>split2_test_score</th>\n",
       "      <th>split3_test_score</th>\n",
       "      <th>...</th>\n",
       "      <th>mean_test_score</th>\n",
       "      <th>std_test_score</th>\n",
       "      <th>rank_test_score</th>\n",
       "      <th>split0_train_score</th>\n",
       "      <th>split1_train_score</th>\n",
       "      <th>split2_train_score</th>\n",
       "      <th>split3_train_score</th>\n",
       "      <th>split4_train_score</th>\n",
       "      <th>mean_train_score</th>\n",
       "      <th>std_train_score</th>\n",
       "    </tr>\n",
       "  </thead>\n",
       "  <tbody>\n",
       "    <tr>\n",
       "      <th>0</th>\n",
       "      <td>0.006192</td>\n",
       "      <td>0.001265</td>\n",
       "      <td>0.000186</td>\n",
       "      <td>1.367451e-05</td>\n",
       "      <td>1</td>\n",
       "      <td>{'C': 1}</td>\n",
       "      <td>0.857143</td>\n",
       "      <td>0.922794</td>\n",
       "      <td>0.963235</td>\n",
       "      <td>0.834559</td>\n",
       "      <td>...</td>\n",
       "      <td>0.855987</td>\n",
       "      <td>0.089526</td>\n",
       "      <td>1</td>\n",
       "      <td>0.859375</td>\n",
       "      <td>0.853076</td>\n",
       "      <td>0.836547</td>\n",
       "      <td>0.86685</td>\n",
       "      <td>0.890725</td>\n",
       "      <td>0.861315</td>\n",
       "      <td>0.01778</td>\n",
       "    </tr>\n",
       "    <tr>\n",
       "      <th>1</th>\n",
       "      <td>0.005527</td>\n",
       "      <td>0.000202</td>\n",
       "      <td>0.000176</td>\n",
       "      <td>6.641573e-07</td>\n",
       "      <td>2</td>\n",
       "      <td>{'C': 2}</td>\n",
       "      <td>0.857143</td>\n",
       "      <td>0.922794</td>\n",
       "      <td>0.963235</td>\n",
       "      <td>0.834559</td>\n",
       "      <td>...</td>\n",
       "      <td>0.855987</td>\n",
       "      <td>0.089526</td>\n",
       "      <td>1</td>\n",
       "      <td>0.859375</td>\n",
       "      <td>0.853076</td>\n",
       "      <td>0.836547</td>\n",
       "      <td>0.86685</td>\n",
       "      <td>0.890725</td>\n",
       "      <td>0.861315</td>\n",
       "      <td>0.01778</td>\n",
       "    </tr>\n",
       "    <tr>\n",
       "      <th>2</th>\n",
       "      <td>0.005534</td>\n",
       "      <td>0.000205</td>\n",
       "      <td>0.000181</td>\n",
       "      <td>8.165758e-06</td>\n",
       "      <td>3</td>\n",
       "      <td>{'C': 3}</td>\n",
       "      <td>0.857143</td>\n",
       "      <td>0.922794</td>\n",
       "      <td>0.963235</td>\n",
       "      <td>0.834559</td>\n",
       "      <td>...</td>\n",
       "      <td>0.855987</td>\n",
       "      <td>0.089526</td>\n",
       "      <td>1</td>\n",
       "      <td>0.859375</td>\n",
       "      <td>0.853076</td>\n",
       "      <td>0.836547</td>\n",
       "      <td>0.86685</td>\n",
       "      <td>0.890725</td>\n",
       "      <td>0.861315</td>\n",
       "      <td>0.01778</td>\n",
       "    </tr>\n",
       "    <tr>\n",
       "      <th>3</th>\n",
       "      <td>0.005579</td>\n",
       "      <td>0.000168</td>\n",
       "      <td>0.000177</td>\n",
       "      <td>1.867595e-06</td>\n",
       "      <td>4</td>\n",
       "      <td>{'C': 4}</td>\n",
       "      <td>0.857143</td>\n",
       "      <td>0.922794</td>\n",
       "      <td>0.963235</td>\n",
       "      <td>0.834559</td>\n",
       "      <td>...</td>\n",
       "      <td>0.855987</td>\n",
       "      <td>0.089526</td>\n",
       "      <td>1</td>\n",
       "      <td>0.859375</td>\n",
       "      <td>0.853076</td>\n",
       "      <td>0.836547</td>\n",
       "      <td>0.86685</td>\n",
       "      <td>0.890725</td>\n",
       "      <td>0.861315</td>\n",
       "      <td>0.01778</td>\n",
       "    </tr>\n",
       "  </tbody>\n",
       "</table>\n",
       "<p>4 rows × 21 columns</p>\n",
       "</div>"
      ],
      "text/plain": [
       "   mean_fit_time  std_fit_time  mean_score_time  std_score_time param_C  \\\n",
       "0       0.006192      0.001265         0.000186    1.367451e-05       1   \n",
       "1       0.005527      0.000202         0.000176    6.641573e-07       2   \n",
       "2       0.005534      0.000205         0.000181    8.165758e-06       3   \n",
       "3       0.005579      0.000168         0.000177    1.867595e-06       4   \n",
       "\n",
       "     params  split0_test_score  split1_test_score  split2_test_score  \\\n",
       "0  {'C': 1}           0.857143           0.922794           0.963235   \n",
       "1  {'C': 2}           0.857143           0.922794           0.963235   \n",
       "2  {'C': 3}           0.857143           0.922794           0.963235   \n",
       "3  {'C': 4}           0.857143           0.922794           0.963235   \n",
       "\n",
       "   split3_test_score  ...  mean_test_score  std_test_score  rank_test_score  \\\n",
       "0           0.834559  ...         0.855987        0.089526                1   \n",
       "1           0.834559  ...         0.855987        0.089526                1   \n",
       "2           0.834559  ...         0.855987        0.089526                1   \n",
       "3           0.834559  ...         0.855987        0.089526                1   \n",
       "\n",
       "   split0_train_score  split1_train_score  split2_train_score  \\\n",
       "0            0.859375            0.853076            0.836547   \n",
       "1            0.859375            0.853076            0.836547   \n",
       "2            0.859375            0.853076            0.836547   \n",
       "3            0.859375            0.853076            0.836547   \n",
       "\n",
       "   split3_train_score  split4_train_score  mean_train_score  std_train_score  \n",
       "0             0.86685            0.890725          0.861315          0.01778  \n",
       "1             0.86685            0.890725          0.861315          0.01778  \n",
       "2             0.86685            0.890725          0.861315          0.01778  \n",
       "3             0.86685            0.890725          0.861315          0.01778  \n",
       "\n",
       "[4 rows x 21 columns]"
      ]
     },
     "execution_count": 13,
     "metadata": {},
     "output_type": "execute_result"
    }
   ],
   "source": [
    "cv_results = pd.DataFrame(grid_model.cv_results_)\n",
    "cv_results"
   ]
  },
  {
   "cell_type": "code",
   "execution_count": 14,
   "metadata": {},
   "outputs": [
    {
     "data": {
      "text/plain": [
       "mean_fit_time         0.005708\n",
       "std_fit_time          0.000460\n",
       "mean_score_time       0.000180\n",
       "std_score_time        0.000006\n",
       "param_C               2.500000\n",
       "split0_test_score     0.857143\n",
       "split1_test_score     0.922794\n",
       "split2_test_score     0.963235\n",
       "split3_test_score     0.834559\n",
       "split4_test_score     0.702206\n",
       "mean_test_score       0.855987\n",
       "std_test_score        0.089526\n",
       "rank_test_score       1.000000\n",
       "split0_train_score    0.859375\n",
       "split1_train_score    0.853076\n",
       "split2_train_score    0.836547\n",
       "split3_train_score    0.866850\n",
       "split4_train_score    0.890725\n",
       "mean_train_score      0.861315\n",
       "std_train_score       0.017780\n",
       "dtype: float64"
      ]
     },
     "execution_count": 14,
     "metadata": {},
     "output_type": "execute_result"
    }
   ],
   "source": [
    "cv_results.mean()"
   ]
  }
 ],
 "metadata": {
  "kernelspec": {
   "display_name": "Python 3",
   "language": "python",
   "name": "python3"
  },
  "language_info": {
   "codemirror_mode": {
    "name": "ipython",
    "version": 3
   },
   "file_extension": ".py",
   "mimetype": "text/x-python",
   "name": "python",
   "nbconvert_exporter": "python",
   "pygments_lexer": "ipython3",
   "version": "3.8.5"
  }
 },
 "nbformat": 4,
 "nbformat_minor": 2
}
