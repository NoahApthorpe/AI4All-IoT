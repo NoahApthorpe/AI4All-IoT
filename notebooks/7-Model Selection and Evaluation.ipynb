{
 "cells": [
  {
   "cell_type": "markdown",
   "id": "early-logistics",
   "metadata": {},
   "source": [
    "\n",
    "## Model Selection\n",
    "How do we know we have a good model? How do we know that the machine learning algorithm is \"good\"?\n",
    "\n",
    "We can perform a K-fold cross-validaion on the data: \n",
    "* holding out 1/K of the data for testing, \n",
    "* training on the reamining data, \n",
    "* repeating this K times, one for each fold\n",
    "* averaging the resulting accuracy/score of the model"
   ]
  },
  {
   "cell_type": "code",
   "execution_count": 5,
   "id": "standing-citation",
   "metadata": {},
   "outputs": [],
   "source": [
    "# Pandas, Numpy\n",
    "import numpy as np\n",
    "import pandas as pd\n",
    "\n",
    "# Machine Learning\n",
    "from sklearn.linear_model import LogisticRegression, LogisticRegressionCV\n",
    "\n",
    "# Plotting\n",
    "import matplotlib.pyplot as plt\n",
    "%matplotlib inline\n",
    "\n",
    "# Libraries for Processing Network Traffic\n",
    "import ipaddress\n",
    "import netaddr\n",
    "\n",
    "# Allow us to load modules from the parent directory\n",
    "import sys\n",
    "sys.path.append(\"../lib\") \n",
    "from parse_pcap import pcap_to_pandas"
   ]
  },
  {
   "cell_type": "markdown",
   "id": "editorial-reaction",
   "metadata": {},
   "source": [
    "## Hyperparameter Tuning"
   ]
  },
  {
   "cell_type": "markdown",
   "id": "existing-guitar",
   "metadata": {},
   "source": [
    "Most machine learning models have parameters associated with them.  Below we can explore how to tune these hyperparameters using a technique called grid search. Grid search usually involves searching over ranges of multiple parameters, but can also involve searching over values for a single parameter.\n",
    "\n",
    "In the case of a linear regression, there are specific parameters to control the complexity of the model. Both Lasso and Ridge Regression, for example, have an alpha parameter that penalizes non-zero coefficients: the larger the value of alpha, the less complex the model will be (i.e., the fewer non-zero coefficients there will be), and the less variance the model will have (i.e., it will be less likely to be overfit.\n",
    "\n",
    "In the case of logistic regression, there is a regularization called 'C' that controls overfitting.  You can explore different values of 'C'.  "
   ]
  },
  {
   "cell_type": "markdown",
   "id": "soviet-columbia",
   "metadata": {},
   "source": [
    "### Logistic Regression"
   ]
  },
  {
   "cell_type": "code",
   "execution_count": 2,
   "id": "inappropriate-frontier",
   "metadata": {},
   "outputs": [],
   "source": [
    "pcap = pcap_to_pandas('../pcaps/google_home.pcap') # this can take a few minutes\n",
    "regr = LogisticRegression(solver='lbfgs', C=1)\n",
    "\n",
    "dns_packets = pcap.loc[pcap['is_dns'] == True];\n",
    "dns_ft = dns_packets.loc[:,['length','dns_resp']]\n",
    "dns_ft['response'] = dns_ft['dns_resp'].astype(bool)\n",
    "dns_ft['response'] = dns_ft['response'].astype(int)\n",
    "\n",
    "x = dns_ft['length'].values\n",
    "y = dns_ft['response'].values"
   ]
  },
  {
   "cell_type": "code",
   "execution_count": 13,
   "id": "arabic-shade",
   "metadata": {},
   "outputs": [
    {
     "data": {
      "text/plain": [
       "LogisticRegression(C=0.1)"
      ]
     },
     "execution_count": 13,
     "metadata": {},
     "output_type": "execute_result"
    }
   ],
   "source": [
    "regr = LogisticRegression(solver='lbfgs', C=0.1)\n",
    "regr.fit(x.reshape(-1,1),y)"
   ]
  },
  {
   "cell_type": "markdown",
   "id": "automotive-divide",
   "metadata": {},
   "source": [
    "### Grid Search"
   ]
  },
  {
   "cell_type": "code",
   "execution_count": 14,
   "id": "compatible-conditioning",
   "metadata": {},
   "outputs": [],
   "source": [
    "from sklearn.model_selection import GridSearchCV\n",
    "\n",
    "k = 5\n",
    "\n",
    "# Set the grid search parameters.\n",
    "# Here there is only one value we are testing, C.\n",
    "C_range = np.arange(1,5,1)\n",
    "params = {\n",
    "    'C': C_range,\n",
    "}\n",
    "\n",
    "grid_model = GridSearchCV(estimator=regr,\n",
    "                          param_grid=params,\n",
    "                          cv=k,\n",
    "                          return_train_score=True,\n",
    "                          scoring='accuracy'                        )\n",
    "\n",
    "# Return the best fit model\n",
    "gregr = grid_model.fit(x.reshape(-1,1),y)"
   ]
  },
  {
   "cell_type": "code",
   "execution_count": 15,
   "id": "casual-cologne",
   "metadata": {},
   "outputs": [
    {
     "data": {
      "image/png": "[encoded data removed]",
      "text/plain": [
       "<Figure size 432x288 with 1 Axes>"
      ]
     },
     "metadata": {
      "needs_background": "light"
     },
     "output_type": "display_data"
    }
   ],
   "source": [
    "# Plot data\n",
    "# z is a simple number line 1 to 600\n",
    "z = np.arange(1, 600, 0.5).reshape(-1, 1);\n",
    "\n",
    "# prediction: plot the number line against the predictions for those values\n",
    "plt.plot(z, gregr.predict_proba(z)[:, 1], color='green');\n",
    "plt.plot(x,y, 'x', color='red')\n",
    "plt.ylabel(\"Request (0) or Response (1)\")\n",
    "plt.xlabel(\"DNS Packet Length\")\n",
    "plt.grid(linestyle='--', alpha=0.6)\n",
    "plt.show()"
   ]
  },
  {
   "cell_type": "markdown",
   "id": "devoted-tamil",
   "metadata": {},
   "source": [
    "## Evaluation\n",
    "\n",
    "### Splitting Training and Testing\n",
    "\n",
    "You do not want to evaluate your trained model on the training data. Rather, you must evaluate the model on test data that the model has never seen before. One approach to doing so is performing what is called a train-test split, whereby some fraction of the data is held out as a test set. The `train_test_split` function will perform this function for you.\n",
    "\n",
    "Below shows an example evaluation on the test data, using both a confusion matrix and standard evaluation metrics."
   ]
  },
  {
   "cell_type": "code",
   "execution_count": 33,
   "id": "higher-responsibility",
   "metadata": {},
   "outputs": [
    {
     "data": {
      "image/png": "[encoded data removed]",
      "text/plain": [
       "<Figure size 432x288 with 2 Axes>"
      ]
     },
     "metadata": {
      "needs_background": "light"
     },
     "output_type": "display_data"
    }
   ],
   "source": [
    "from sklearn.metrics import confusion_matrix, plot_confusion_matrix\n",
    "from sklearn.model_selection import train_test_split\n",
    "\n",
    "# perform the train test split\n",
    "X_train, X_test, y_train, y_test = train_test_split(x, y, train_size=0.8)\n",
    "\n",
    "plot_confusion_matrix(gregr,X_test.reshape(-1,1),y_test)\n",
    "plt.show()"
   ]
  },
  {
   "cell_type": "markdown",
   "id": "indonesian-bidder",
   "metadata": {},
   "source": [
    "### Cross Validation\n",
    "\n",
    "Another common method for evaluating a model is using a technique called cross validation. The basic idea is to perform a series of evaluations with different train-test splits and then average the results. One common way of performing cross validation is called \"k-fold cross validation\", whereby each iteration uses one portion or \"fold\" of the data for training and the rest for testing, and subsequently holds out different folds."
   ]
  },
  {
   "cell_type": "code",
   "execution_count": 34,
   "id": "plastic-sector",
   "metadata": {},
   "outputs": [
    {
     "data": {
      "text/plain": [
       "0.8589231846584788"
      ]
     },
     "execution_count": 34,
     "metadata": {},
     "output_type": "execute_result"
    }
   ],
   "source": [
    "from sklearn.model_selection import KFold, cross_val_score\n",
    "\n",
    "# K-fold Cross Validation\n",
    "kf = KFold(n_splits=5)\n",
    "\n",
    "cv_results = cross_val_score(regr,\n",
    "                             x.reshape(-1,1),\n",
    "                             y,\n",
    "                             cv=kf,\n",
    "                             scoring=\"accuracy\")\n",
    "cv_results.mean()"
   ]
  }
 ],
 "metadata": {
  "kernelspec": {
   "display_name": "Python 3",
   "language": "python",
   "name": "python3"
  },
  "language_info": {
   "codemirror_mode": {
    "name": "ipython",
    "version": 3
   },
   "file_extension": ".py",
   "mimetype": "text/x-python",
   "name": "python",
   "nbconvert_exporter": "python",
   "pygments_lexer": "ipython3",
   "version": "3.8.5"
  }
 },
 "nbformat": 4,
 "nbformat_minor": 5
}
